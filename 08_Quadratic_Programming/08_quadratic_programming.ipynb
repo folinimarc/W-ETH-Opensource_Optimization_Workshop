{
 "cells": [
  {
   "cell_type": "code",
   "execution_count": 1,
   "metadata": {},
   "outputs": [],
   "source": [
    "import numpy as np\n",
    "np.set_printoptions(suppress=True)"
   ]
  },
  {
   "cell_type": "code",
   "execution_count": 2,
   "metadata": {},
   "outputs": [],
   "source": [
    "from pyomo.environ import *"
   ]
  },
  {
   "cell_type": "markdown",
   "metadata": {},
   "source": [
    "### Read input data"
   ]
  },
  {
   "cell_type": "code",
   "execution_count": 3,
   "metadata": {},
   "outputs": [],
   "source": [
    "mat_alpha = np.genfromtxt('input_csv/mat_alpha.csv', delimiter=',')\n",
    "mat_alpha_sector_mean = np.genfromtxt('input_csv/mat_alpha_sector_mean.csv', delimiter=',')\n",
    "mat_emissions = np.genfromtxt('input_csv/mat_emissions.csv', delimiter=',')\n",
    "mat_emissions_country_totals = np.genfromtxt('input_csv/mat_emissions_country_totals.csv', delimiter=',')\n",
    "mat_emissions_sector_mean = np.genfromtxt('input_csv/mat_emissions_sector_mean.csv', delimiter=',')\n",
    "mat_emissions_sector_totals = np.genfromtxt('input_csv/mat_emissions_sector_totals.csv', delimiter=',')\n",
    "mat_intensities = np.genfromtxt('input_csv/mat_intensities.csv', delimiter=',')\n",
    "mat_proxy = np.genfromtxt('input_csv/mat_proxy.csv', delimiter=',')"
   ]
  },
  {
   "cell_type": "code",
   "execution_count": 4,
   "metadata": {},
   "outputs": [],
   "source": [
    "n_countries, n_sectors = mat_proxy.shape"
   ]
  },
  {
   "cell_type": "markdown",
   "metadata": {},
   "source": [
    "### Generate constants"
   ]
  },
  {
   "cell_type": "code",
   "execution_count": 5,
   "metadata": {},
   "outputs": [
    {
     "name": "stdout",
     "output_type": "stream",
     "text": [
      "4408\n",
      "4408\n"
     ]
    }
   ],
   "source": [
    "# Get row and column indices of NAN values in alpha (decision variables)\n",
    "irows, icols = np.where(np.isnan(mat_alpha))\n",
    "print(irows.shape[0])\n",
    "print(icols.shape[0])"
   ]
  },
  {
   "cell_type": "code",
   "execution_count": 6,
   "metadata": {},
   "outputs": [],
   "source": [
    "# Generate some helper matrices\n",
    "mat_intensities_stacked = np.tile(mat_intensities, (n_countries, 1))\n",
    "mat_alpha_sector_mean_stacked = np.tile(mat_alpha_sector_mean, (n_countries, 1))\n",
    "mat_estimated_emissions = np.multiply(np.multiply(mat_proxy, mat_intensities_stacked), mat_alpha)"
   ]
  },
  {
   "cell_type": "code",
   "execution_count": 7,
   "metadata": {},
   "outputs": [],
   "source": [
    "const_estimated_emissions_country_total = np.nansum(mat_estimated_emissions, axis= 1)\n",
    "const_estimated_emissions_sector_total = np.nansum(mat_estimated_emissions, axis= 0)"
   ]
  },
  {
   "cell_type": "code",
   "execution_count": 8,
   "metadata": {},
   "outputs": [],
   "source": [
    "# To initialize decision variables, fill alpha matrix nan with sector means\n",
    "mat_alpha_filled = mat_alpha.copy()\n",
    "mat_alpha_filled[irows, icols] = mat_alpha_sector_mean_stacked[irows, icols]"
   ]
  },
  {
   "cell_type": "markdown",
   "metadata": {},
   "source": [
    "### Create model"
   ]
  },
  {
   "cell_type": "code",
   "execution_count": null,
   "metadata": {},
   "outputs": [],
   "source": [
    "mo = ConcreteModel()"
   ]
  },
  {
   "cell_type": "markdown",
   "metadata": {},
   "source": [
    "### Create sets"
   ]
  },
  {
   "cell_type": "code",
   "execution_count": null,
   "metadata": {},
   "outputs": [],
   "source": [
    "mo.C = Set(initialize=range(n_countries), ordered=True)\n",
    "mo.S = Set(initialize=range(n_sectors), ordered=True)"
   ]
  },
  {
   "cell_type": "code",
   "execution_count": null,
   "metadata": {
    "scrolled": true
   },
   "outputs": [],
   "source": [
    "#mo.pprint()"
   ]
  },
  {
   "cell_type": "markdown",
   "metadata": {},
   "source": [
    "### Create decision variables"
   ]
  },
  {
   "cell_type": "code",
   "execution_count": null,
   "metadata": {},
   "outputs": [],
   "source": [
    "import random\n",
    "def x_init(mo, c, s):\n",
    "    return mat_alpha_filled[c, s]# * (1 + 0.2 * random.random())\n",
    "mo.X = Var(mo.C, mo.S, within=NonNegativeReals, initialize=x_init)"
   ]
  },
  {
   "cell_type": "code",
   "execution_count": null,
   "metadata": {},
   "outputs": [],
   "source": [
    "#mo.X.pprint()"
   ]
  },
  {
   "cell_type": "markdown",
   "metadata": {},
   "source": [
    "### Create objective function"
   ]
  },
  {
   "cell_type": "code",
   "execution_count": null,
   "metadata": {},
   "outputs": [],
   "source": [
    "def objective_function_rule(mo):\n",
    "    return sum((sum(mo.X[c,s] * mat_intensities_stacked[c,s] * mat_proxy[c,s] for s in mo.S) - mat_emissions_country_totals[c])**2 for c in mo.C)\\\n",
    "            + sum((sum(mo.X[c,s] * mat_intensities_stacked[c,s] * mat_proxy[c,s] for c in mo.C) - mat_emissions_sector_totals[s])**2 for s in mo.S)\n",
    "mo.obj = Objective(sense=minimize, rule=objective_function_rule)"
   ]
  },
  {
   "cell_type": "code",
   "execution_count": null,
   "metadata": {},
   "outputs": [],
   "source": [
    "#mo.obj.pprint()"
   ]
  },
  {
   "cell_type": "markdown",
   "metadata": {},
   "source": [
    "### C1: Non - zero\n",
    "Included in DV definition"
   ]
  },
  {
   "cell_type": "markdown",
   "metadata": {},
   "source": [
    "### C2: Fix alphas that are not nan"
   ]
  },
  {
   "cell_type": "code",
   "execution_count": null,
   "metadata": {},
   "outputs": [],
   "source": [
    "mo.c_fix_nonnan = ConstraintList()\n",
    "for c in mo.C:\n",
    "    for s in mo.S:\n",
    "        if not np.isnan(mat_alpha[c,s]):\n",
    "            mo.c_fix_nonnan.add(expr=mo.X[c,s]==mat_alpha[c,s])"
   ]
  },
  {
   "cell_type": "markdown",
   "metadata": {},
   "source": [
    "### Solve"
   ]
  },
  {
   "cell_type": "code",
   "execution_count": null,
   "metadata": {},
   "outputs": [],
   "source": [
    "#with open('logs/opti_model.txt', 'w') as f:\n",
    "#    mo.pprint(ostream=f)"
   ]
  },
  {
   "cell_type": "code",
   "execution_count": null,
   "metadata": {},
   "outputs": [],
   "source": [
    "solver_path = r'..\\_Solvers\\Ipopt-3.11.1-win64-intel13.1\\bin\\ipopt.exe'"
   ]
  },
  {
   "cell_type": "code",
   "execution_count": null,
   "metadata": {},
   "outputs": [],
   "source": [
    "multistart = False\n",
    "\n",
    "print('--- start solver ---')\n",
    "if not multistart:\n",
    "    # SINGLE START\n",
    "    solver = SolverFactory('ipopt', executable=solver_path)\n",
    "    solver.solve(mo, \n",
    "                 tee=True, \n",
    "                 logfile='logs/solver_log.txt'\n",
    "                )\n",
    "else:\n",
    "    # MULTI START\n",
    "    \n",
    "    # Strategies according to https://pyomo.readthedocs.io/en/stable/contributed_packages/multistart.html#using-multistart-solver\n",
    "    # ”rand”: random choice between variable bounds\n",
    "    # ”midpoint_guess_and_bound”: midpoint between current value and farthest bound\n",
    "    # ”rand_guess_and_bound”: random choice between current value and farthest bound\n",
    "    # ”rand_distributed”: random choice among evenly distributed values\n",
    "    # ”midpoint”: exact midpoint between the bounds. If using this option, multiple iterations are useless.\n",
    "    \n",
    "    solver = SolverFactory('multistart')\n",
    "    solver.solve(mo, \n",
    "                 solver=solver_path, \n",
    "                 strategy='midpoint_guess_and_bound',\n",
    "                 iterations=10,\n",
    "                 suppress_unbounded_warning=True,\n",
    "                 solver_args={\n",
    "                     'tee': True,\n",
    "                     'logfile': 'logs/solver_log.txt'\n",
    "                 })\n",
    "print('--- finished ---')"
   ]
  },
  {
   "cell_type": "markdown",
   "metadata": {},
   "source": [
    "### Process result"
   ]
  },
  {
   "cell_type": "code",
   "execution_count": null,
   "metadata": {},
   "outputs": [],
   "source": [
    "value(mo.obj)"
   ]
  },
  {
   "cell_type": "code",
   "execution_count": null,
   "metadata": {},
   "outputs": [],
   "source": [
    "mat_alpha_opti = np.zeros_like(mat_alpha)\n",
    "for c in mo.C:\n",
    "    for s in mo.S:\n",
    "        mat_alpha_opti[c,s] = value(mo.X[c,s])"
   ]
  },
  {
   "cell_type": "code",
   "execution_count": null,
   "metadata": {},
   "outputs": [],
   "source": [
    "mat_emmissions_estimated = np.multiply(np.multiply(mat_proxy, mat_intensities_stacked), mat_alpha_filled)"
   ]
  },
  {
   "cell_type": "code",
   "execution_count": null,
   "metadata": {},
   "outputs": [],
   "source": [
    "mat_emmissions_estimated_opti = np.multiply(np.multiply(mat_proxy, mat_intensities_stacked), mat_alpha_opti)"
   ]
  },
  {
   "cell_type": "code",
   "execution_count": null,
   "metadata": {},
   "outputs": [],
   "source": [
    "mat_emmissions_estimated.sum(axis=0)"
   ]
  },
  {
   "cell_type": "code",
   "execution_count": null,
   "metadata": {},
   "outputs": [],
   "source": [
    "mat_emissions_sector_totals"
   ]
  },
  {
   "cell_type": "code",
   "execution_count": null,
   "metadata": {},
   "outputs": [],
   "source": [
    "mat_emmissions_estimated_opti.sum(axis=0)"
   ]
  },
  {
   "cell_type": "code",
   "execution_count": null,
   "metadata": {},
   "outputs": [],
   "source": []
  },
  {
   "cell_type": "code",
   "execution_count": null,
   "metadata": {},
   "outputs": [],
   "source": [
    "def f(mat_alpha):\n",
    "    mat_emissions_estimated = np.multiply(np.multiply(mat_alpha, mat_intensities_stacked), mat_proxy)\n",
    "    sse = np.nansum(np.square(np.nansum(mat_emissions_estimated, axis=0) - mat_emissions_sector_totals))\n",
    "    sse = sse + np.nansum(np.square(np.nansum(mat_emissions_estimated, axis=1) - mat_emissions_country_totals))\n",
    "    return sse"
   ]
  },
  {
   "cell_type": "code",
   "execution_count": null,
   "metadata": {},
   "outputs": [],
   "source": [
    "f(mat_alpha_filled)"
   ]
  },
  {
   "cell_type": "code",
   "execution_count": null,
   "metadata": {
    "scrolled": true
   },
   "outputs": [],
   "source": [
    "f(mat_alpha_opti)"
   ]
  },
  {
   "cell_type": "code",
   "execution_count": null,
   "metadata": {
    "scrolled": true
   },
   "outputs": [],
   "source": [
    "value(mo.obj)"
   ]
  },
  {
   "cell_type": "markdown",
   "metadata": {},
   "source": [
    "# Sanity check testing"
   ]
  },
  {
   "cell_type": "code",
   "execution_count": null,
   "metadata": {
    "scrolled": true
   },
   "outputs": [],
   "source": [
    "assert abs(value(mo.obj) - f(mat_alpha_opti)) < 0.1\n",
    "\n",
    "import random\n",
    "n_tests = 1_000_000\n",
    "n_replacements_per_iterations = 20\n",
    "\n",
    "irows_list = list(irows)\n",
    "icols_list = list(icols)\n",
    "indices_list = list(range(len(irows_list)))\n",
    "\n",
    "opti_f = f(mat_alpha_opti)\n",
    "mini = 99999999999999999999\n",
    "mini_alpha_mat = None\n",
    "\n",
    "for n in range(n_tests):\n",
    "    if n % 1000 == 0:\n",
    "        print(f'Iteration {n}/{n_tests}')\n",
    "    mat_alpha_temp = mat_alpha_opti.copy()\n",
    "    indices = random.sample(indices_list, n_replacements_per_iterations)\n",
    "    scales = [random.random() + 0.5 for x in range(n_replacements_per_iterations)]\n",
    "    mat_alpha_temp[irows[indices], icols[indices]] = mat_alpha_temp[irows[indices], icols[indices]] * scales\n",
    "    #print(mat_alpha[rows, cols])\n",
    "    new_f = f(mat_alpha_temp)\n",
    "    ratio = new_f / opti_f * 100\n",
    "    if ratio < mini:\n",
    "        mini = ratio\n",
    "        mini_alpha_mat = mat_alpha_temp.copy()\n",
    "    #print(f'Cost ratio: {new_f / opti_f * 100:.4f}%')\n",
    "print(f'Smallest found ratio: {mini:.4f}%')"
   ]
  },
  {
   "cell_type": "markdown",
   "metadata": {},
   "source": [
    "# Sanity check of totals vs initial estimates"
   ]
  },
  {
   "cell_type": "code",
   "execution_count": 9,
   "metadata": {},
   "outputs": [],
   "source": [
    "import matplotlib.pyplot as plt"
   ]
  },
  {
   "cell_type": "code",
   "execution_count": 12,
   "metadata": {},
   "outputs": [],
   "source": [
    "init_diff_sector_totals = mat_emissions_sector_totals - np.nansum(mat_emissions, axis=0)"
   ]
  },
  {
   "cell_type": "code",
   "execution_count": 32,
   "metadata": {},
   "outputs": [
    {
     "name": "stdout",
     "output_type": "stream",
     "text": [
      "min: -1706.1269437298224\n",
      "max: 4992.148550374354\n"
     ]
    },
    {
     "data": {
      "image/png": "[encoded data removed]",
      "text/plain": [
       "<Figure size 432x288 with 1 Axes>"
      ]
     },
     "metadata": {
      "needs_background": "light"
     },
     "output_type": "display_data"
    }
   ],
   "source": [
    "print(f'min: {np.min(init_diff_sector_totals)}')\n",
    "print(f'max: {np.max(init_diff_sector_totals)}')\n",
    "plt.hist(init_diff_sector_totals, bins=100)\n",
    "plt.xlabel(\"ATest\")\n",
    "plt.show()"
   ]
  },
  {
   "cell_type": "code",
   "execution_count": 13,
   "metadata": {},
   "outputs": [],
   "source": [
    "init_diff_country_totals = mat_emissions_country_totals - np.nansum(mat_emissions, axis=1)"
   ]
  },
  {
   "cell_type": "code",
   "execution_count": 29,
   "metadata": {},
   "outputs": [
    {
     "name": "stdout",
     "output_type": "stream",
     "text": [
      "min: -67.07234080289737\n",
      "max: 5052.12987737178\n"
     ]
    },
    {
     "data": {
      "image/png": "[encoded data removed]",
      "text/plain": [
       "<Figure size 432x288 with 1 Axes>"
      ]
     },
     "metadata": {
      "needs_background": "light"
     },
     "output_type": "display_data"
    }
   ],
   "source": [
    "print(f'min: {np.min(init_diff_country_totals)}')\n",
    "print(f'max: {np.max(init_diff_country_totals)}')\n",
    "plt.hist(init_diff_country_totals, bins=100)\n",
    "plt.show()"
   ]
  },
  {
   "cell_type": "code",
   "execution_count": null,
   "metadata": {},
   "outputs": [],
   "source": []
  }
 ],
 "metadata": {
  "kernelspec": {
   "display_name": "playground",
   "language": "python",
   "name": "playground"
  },
  "language_info": {
   "codemirror_mode": {
    "name": "ipython",
    "version": 3
   },
   "file_extension": ".py",
   "mimetype": "text/x-python",
   "name": "python",
   "nbconvert_exporter": "python",
   "pygments_lexer": "ipython3",
   "version": "3.7.4"
  }
 },
 "nbformat": 4,
 "nbformat_minor": 2
}
