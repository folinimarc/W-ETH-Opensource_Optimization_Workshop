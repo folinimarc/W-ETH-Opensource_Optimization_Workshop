{
 "cells": [
  {
   "cell_type": "markdown",
   "metadata": {},
   "source": [
    "# Dynamic harvesting - Scheduling problems"
   ]
  },
  {
   "cell_type": "markdown",
   "metadata": {},
   "source": [
    "#### Category: Integer programming (IP)"
   ]
  },
  {
   "cell_type": "markdown",
   "metadata": {},
   "source": [
    "#### What is it about?\n",
    "- Use integer programming to solve a problem with a temporal dimension.\n",
    "- Simulate basic forest growth over time solely by using constraints for mass conservation.\n",
    "- Use matplotlib for a nice visualization of the results."
   ]
  },
  {
   "cell_type": "markdown",
   "metadata": {},
   "source": [
    "## Introduction"
   ]
  },
  {
   "cell_type": "markdown",
   "metadata": {},
   "source": [
    "A forest company owns a forest that is composed of stands which are characterized as the following age classes: (1) thicket, (2) pole wood, (3) timber and (4) mature timber. Unfortunately, the percentages of those classes do not fullfill the requirements of the \"Steady-state\" (i.e. Normalwaldmodell). A forest in steady-state allows for harvesting the same amount of timber from the same age classes each time period for a potental inifinite time. The company is interested in how to schedule harvest in the future (i.e. next 3 planning periods) to transfer the forest into a steady-state and concurrently maximize revenues. - Slides SAMO Exercise 6"
   ]
  },
  {
   "cell_type": "markdown",
   "metadata": {},
   "source": [
    "| Age class         | Revenue [CHF/ha] | Initial area [ha] |\n",
    "|:------------------|:----------------:|:------------------------:|\n",
    "|   thicket         | not harvested    | 100                      |\n",
    "|   pole            | 7'500            | 200                      |\n",
    "|   timber          | 35'000           | 50                       |\n",
    "|   mature timber   | 45'000           | 150                      |"
   ]
  },
  {
   "cell_type": "markdown",
   "metadata": {},
   "source": [
    "## Mathematical model"
   ]
  },
  {
   "cell_type": "markdown",
   "metadata": {},
   "source": [
    "#### Description\n",
    "$\n",
    "\\begin{equation*}\n",
    "n_{periods}: \\text{Number of harvesting time periods}\\\\\n",
    "P : \\text{Set of $(n_{periods} + 1)$ time periods to account for steady state condition}\\\\\n",
    "A : \\text{Set of all age classes}\\\\\n",
    "P_X : \\text{Set of $n_{periods}$ time periods considered for harvesting}\\\\\n",
    "A_X : \\text{Set of age classes considered for harvesting}\\\\\n",
    "X_{p,a} : \\text{Non-negative integer variable of how much area [ha] of age class a is} \\textbf{ harvested during} \\text{ time period p}\\\\\n",
    "Y_{p,a} : \\text{Non-negative integer variable of how much area [ha] of age class a } \\textbf{exists at beginning } \\text{of time period p}\\\\\n",
    "r_a : \\text{Revenue [CHF/ha] associated with age class a}\\\\\n",
    "i_a : \\text{Initial area [ha] associated with age class a}\\\\\n",
    "\\end{equation*}\n",
    "$\n",
    "\n",
    "#### Index sets\n",
    "$\n",
    "\\begin{equation*}\n",
    "P = \\{0,1,2, ... , n_{periods}\\}\\\\\n",
    "P_{X} = \\{0,1,2, ... , (n_{periods}-1)\\}\\\\\n",
    "A = \\{thicket, pole, timber, mature\\_timber\\}\\\\\n",
    "A_{X} = \\{pole, timber, mature\\_timber\\}\\\\\n",
    "\\end{equation*}\n",
    "$\n",
    "\n",
    "#### Decision variables\n",
    "$\n",
    "\\begin{equation*}\n",
    "X_{p,a} \\qquad p \\in P_X, \\: a \\in A_X, \\:  X \\in \\mathbb{N_0} \\\\\n",
    "Y_{p,a} \\qquad p \\in P, \\: a \\in A, \\:  Y \\in \\mathbb{N_0} \\\\\n",
    "\\end{equation*}\n",
    "$\n",
    "\n",
    "#### Objective\n",
    "$\n",
    "\\begin{equation*}\n",
    "MAX \\: \\sum\\limits_{p \\in P_X}\\sum\\limits_{a \\in A_X}r_aX_{p,a}\\\\\n",
    "\\end{equation*}\n",
    "$\n",
    "\n",
    "#### Constraint: Initial area\n",
    "$\n",
    "\\begin{equation*}\n",
    "Y_{0,a} = i_a \\qquad \\forall \\: a \\in A\\\\\n",
    "\\end{equation*}\n",
    "$\n",
    "\n",
    "#### Constraint: Allow no more harvesting during time period $p$ than available area at beginning of $p$\n",
    "$\n",
    "\\begin{equation*}\n",
    "Y_{p,a} - X_{p,a} \\geq 0 \\qquad \\forall \\: p \\in P_X \\qquad \\forall \\: a \\in A_X\\\\\n",
    "\\end{equation*}\n",
    "$\n",
    "\n",
    "#### Constraint: Force steady state on last two time periods\n",
    "$\n",
    "\\begin{equation*}\n",
    "Y_{(n_{periods}),a} - Y_{(n_{periods}-1),a} = 0 \\qquad \\forall \\: a \\in A\\\\\n",
    "\\end{equation*}\n",
    "$\n",
    "\n",
    "#### Constraint: All harvested area during time period $p$ becomes thicket at beginning of $p+1$\n",
    "$\n",
    "\\begin{equation*}\n",
    "\\sum\\limits_{a \\in A_X}X_{p,a} - Y_{(p+1),thicket} = 0 \\qquad \\forall \\: p \\in P_X\\\\\n",
    "\\end{equation*}\n",
    "$\n",
    "\n",
    "#### Constraint:All thicket area at the beginning of $p$  becomes pole area at beginning of $p+1$, because thicket is never harvested\n",
    "$\n",
    "\\begin{equation*}\n",
    "Y_{p, thicket} - Y_{(p+1), pole} = 0 \\qquad \\forall \\: p \\in P_X\\\\\n",
    "\\end{equation*}\n",
    "$\n",
    "\n",
    "#### Constraint: All pole area at beginning of $p$ that is not harvested during $p$ becomes timber area at beginning of $p+1$\n",
    "$\n",
    "\\begin{equation*}\n",
    "Y_{p,pole} - X_{p,pole} - Y_{(p+1),timber} = 0 \\qquad \\forall \\: p \\in P_X\\\\\n",
    "\\end{equation*}\n",
    "$\n",
    "\n",
    "#### Constraint: All timber and mature timber area at beginning of $p$ that is not harvested during $p$ becomes/remains mature timber area at beginning of $p+1$\n",
    "$\n",
    "\\begin{equation*}\n",
    "Y_{p,mature\\_timber} + Y_{p,timber} - X_{p,mature\\_timber} - X_{p,timber} - Y_{(p+1),mature\\_timber} = 0 \\qquad \\forall \\: p \\in P_X\\\\\n",
    "\\end{equation*}\n",
    "$"
   ]
  },
  {
   "cell_type": "markdown",
   "metadata": {
    "collapsed": true
   },
   "source": [
    "## Pyomo implementation"
   ]
  },
  {
   "cell_type": "markdown",
   "metadata": {},
   "source": [
    "#### Important: Because the following code cells build on each other, you MUST run every code cell starting from now! If you get an error, try selecting the cell and click \"Cell\" -> \"Run All Above\" in the taskbar above and then run the cell again."
   ]
  },
  {
   "cell_type": "markdown",
   "metadata": {},
   "source": [
    "#### Suggested workflow\n",
    "1. Load all needed packages and data in your script and transform the data into a suitable structure.\n",
    "2. Create a model object.\n",
    "3. Define the index sets.\n",
    "4. Based on the index sets, define the decision variables.\n",
    "5. Specify the objective.\n",
    "6. Specify the constraints.\n",
    "7. Decide on a suitable solver depending on your problem and solve it.\n",
    "8. Process the results."
   ]
  },
  {
   "cell_type": "markdown",
   "metadata": {},
   "source": [
    "### Step 1: Load all needed packages and data in your script and transform the data into a suitable structure\n",
    "- Import everything from pyomo.environ to use it without prefix.\n",
    "- Import numpy for processing of the results."
   ]
  },
  {
   "cell_type": "code",
   "execution_count": null,
   "metadata": {
    "collapsed": true
   },
   "outputs": [],
   "source": [
    "from pyomo.environ import *\n",
    "import numpy as np"
   ]
  },
  {
   "cell_type": "markdown",
   "metadata": {},
   "source": [
    "Specify the path to the solver executable:"
   ]
  },
  {
   "cell_type": "code",
   "execution_count": null,
   "metadata": {
    "collapsed": true
   },
   "outputs": [],
   "source": [
    "# For windows: r'../_Solvers/Cbc-2.9.9-win32-msvc14/bin/cbc.exe'\n",
    "# For ubuntu bionic beaver: r'../_Solvers/Ubuntu_Bionic/Cbc-2.9.8/bin/cbc'\n",
    "solver_path = r'../_Solvers/Cbc-2.9.9-win32-msvc14/bin/cbc.exe'"
   ]
  },
  {
   "cell_type": "markdown",
   "metadata": {},
   "source": [
    "Specify the number of time periods:"
   ]
  },
  {
   "cell_type": "code",
   "execution_count": null,
   "metadata": {
    "collapsed": true
   },
   "outputs": [],
   "source": [
    "n_periods = 3"
   ]
  },
  {
   "cell_type": "markdown",
   "metadata": {},
   "source": [
    "Specify the initial area $i$ and the revenue $r$ per age stage using dictionaries:"
   ]
  },
  {
   "cell_type": "code",
   "execution_count": null,
   "metadata": {
    "collapsed": true
   },
   "outputs": [],
   "source": [
    "i = {'thicket': 100,\n",
    "     'pole': 200,\n",
    "     'timber': 50,\n",
    "     'mature_timber': 150}\n",
    "\n",
    "r = {'pole': 7500,\n",
    "     'timber': 35000,\n",
    "     'mature_timber': 45000}"
   ]
  },
  {
   "cell_type": "markdown",
   "metadata": {},
   "source": [
    "__That is it for the data preparation!__ The following data is now ready in a suitable form to be used in the model:\n",
    "- $n_{periods}$\n",
    "- $i$\n",
    "- $r$"
   ]
  },
  {
   "cell_type": "markdown",
   "metadata": {},
   "source": [
    "### Step 2: Create a model object"
   ]
  },
  {
   "cell_type": "code",
   "execution_count": null,
   "metadata": {
    "collapsed": true
   },
   "outputs": [],
   "source": [
    "mo = ConcreteModel()"
   ]
  },
  {
   "cell_type": "markdown",
   "metadata": {},
   "source": [
    "### Step 3: Define the index sets\n",
    "$\n",
    "\\begin{equation*}\n",
    "P = \\{0,1,2, ... , n_{periods}\\}\\\\\n",
    "P_{X} = \\{0,1,2, ... , (n_{periods}-1)\\}\\\\\n",
    "A = \\{thicket, pole, timber, mature\\_timber\\}\\\\\n",
    "A_{X} = \\{pole, timber, mature\\_timber\\}\\\\\n",
    "\\end{equation*}\n",
    "$"
   ]
  },
  {
   "cell_type": "code",
   "execution_count": null,
   "metadata": {
    "collapsed": true
   },
   "outputs": [],
   "source": [
    "mo.P = Set(initialize=range(n_periods+1), ordered=True)\n",
    "mo.Px = Set(initialize=range(n_periods), ordered=True)\n",
    "mo.A = Set(initialize=['thicket', 'pole', 'timber', 'mature_timber'], ordered=True)\n",
    "mo.Ax = Set(initialize=['pole', 'timber', 'mature_timber'], ordered=True)"
   ]
  },
  {
   "cell_type": "code",
   "execution_count": null,
   "metadata": {},
   "outputs": [],
   "source": [
    "mo.pprint()"
   ]
  },
  {
   "cell_type": "markdown",
   "metadata": {},
   "source": [
    "### Step 4: Based on the index set, define the decision variables\n",
    "$\n",
    "\\begin{equation*}\n",
    "X_{p,a} \\qquad p \\in P_X, \\: a \\in A_X, \\:  X \\in \\mathbb{N_0} \\\\\n",
    "Y_{p,a} \\qquad p \\in P, \\: a \\in A, \\:  Y \\in \\mathbb{N_0} \\\\\n",
    "\\end{equation*}\n",
    "$"
   ]
  },
  {
   "cell_type": "code",
   "execution_count": null,
   "metadata": {
    "collapsed": true
   },
   "outputs": [],
   "source": [
    "mo.X = Var(mo.Px, mo.Ax, within=NonNegativeIntegers, initialize=0)\n",
    "mo.Y = Var(mo.P, mo.A, within=NonNegativeIntegers, initialize=0)"
   ]
  },
  {
   "cell_type": "code",
   "execution_count": null,
   "metadata": {},
   "outputs": [],
   "source": [
    "mo.X.pprint()"
   ]
  },
  {
   "cell_type": "code",
   "execution_count": null,
   "metadata": {},
   "outputs": [],
   "source": [
    "mo.Y.pprint()"
   ]
  },
  {
   "cell_type": "markdown",
   "metadata": {},
   "source": [
    "### Step 5: Specify the objective\n",
    "$\n",
    "\\begin{equation*}\n",
    "MAX \\: \\sum\\limits_{p \\in P_X}\\sum\\limits_{a \\in A_X}r_aX_{p,a}\\\\\n",
    "\\end{equation*}\n",
    "$"
   ]
  },
  {
   "cell_type": "code",
   "execution_count": null,
   "metadata": {
    "collapsed": true
   },
   "outputs": [],
   "source": [
    "mo.obj = Objective(sense=maximize,\n",
    "                   expr=sum(r[a] * mo.X[p,a] for a in mo.Ax for p in mo.Px))"
   ]
  },
  {
   "cell_type": "code",
   "execution_count": null,
   "metadata": {},
   "outputs": [],
   "source": [
    "mo.obj.pprint()"
   ]
  },
  {
   "cell_type": "markdown",
   "metadata": {},
   "source": [
    "### Step 6: Specify the constraints"
   ]
  },
  {
   "cell_type": "markdown",
   "metadata": {},
   "source": [
    "#### Constraint: Initial area\n",
    "$\n",
    "\\begin{equation*}\n",
    "Y_{0,a} = i_a \\qquad \\forall \\: a \\in A\\\\\n",
    "\\end{equation*}\n",
    "$"
   ]
  },
  {
   "cell_type": "code",
   "execution_count": null,
   "metadata": {
    "collapsed": true
   },
   "outputs": [],
   "source": [
    "mo.c_initial_area = ConstraintList()\n",
    "for a in mo.A:\n",
    "    mo.c_initial_area.add(expr=mo.Y[0,a]==i[a])"
   ]
  },
  {
   "cell_type": "code",
   "execution_count": null,
   "metadata": {},
   "outputs": [],
   "source": [
    "mo.c_initial_area.pprint()"
   ]
  },
  {
   "cell_type": "markdown",
   "metadata": {},
   "source": [
    "#### Constraint: Allow no more harvesting during time period $p$ than available area at beginning of $p$\n",
    "$\n",
    "\\begin{equation*}\n",
    "Y_{p,a} - X_{p,a} \\geq 0 \\qquad \\forall \\: p \\in P_X \\qquad \\forall \\: a \\in A_X\\\\\n",
    "\\end{equation*}\n",
    "$"
   ]
  },
  {
   "cell_type": "code",
   "execution_count": null,
   "metadata": {
    "collapsed": true
   },
   "outputs": [],
   "source": [
    "mo.c_harvest_smallerthan_area = ConstraintList()\n",
    "for a in mo.Ax:\n",
    "    for p in mo.Px:\n",
    "        mo.c_harvest_smallerthan_area.add(expr=mo.Y[p,a] - mo.X[p,a] >= 0)"
   ]
  },
  {
   "cell_type": "code",
   "execution_count": null,
   "metadata": {
    "scrolled": true
   },
   "outputs": [],
   "source": [
    "mo.c_harvest_smallerthan_area.pprint()"
   ]
  },
  {
   "cell_type": "markdown",
   "metadata": {},
   "source": [
    "#### Constraint: Force steady state on last two time periods\n",
    "$\n",
    "\\begin{equation*}\n",
    "Y_{(n_{periods}),a} - Y_{(n_{periods}-1),a} = 0 \\qquad \\forall \\: a \\in A\\\\\n",
    "\\end{equation*}\n",
    "$"
   ]
  },
  {
   "cell_type": "code",
   "execution_count": null,
   "metadata": {
    "collapsed": true
   },
   "outputs": [],
   "source": [
    "mo.c_steady_state = ConstraintList()\n",
    "for a in mo.A:\n",
    "    mo.c_steady_state.add(mo.Y[n_periods,a] - mo.Y[n_periods-1,a] == 0)"
   ]
  },
  {
   "cell_type": "code",
   "execution_count": null,
   "metadata": {},
   "outputs": [],
   "source": [
    "mo.c_steady_state.pprint()"
   ]
  },
  {
   "cell_type": "markdown",
   "metadata": {},
   "source": [
    "#### Constraint: All harvested area during time period $p$ becomes thicket at beginning of $p+1$\n",
    "$\n",
    "\\begin{equation*}\n",
    "\\sum\\limits_{a \\in A_X}X_{p,a} - Y_{(p+1),thicket} = 0 \\qquad \\forall \\: p \\in P_X\\\\\n",
    "\\end{equation*}\n",
    "$"
   ]
  },
  {
   "cell_type": "code",
   "execution_count": null,
   "metadata": {
    "collapsed": true
   },
   "outputs": [],
   "source": [
    "mo.c_harvested_to_thicket = ConstraintList()\n",
    "for p in mo.Px:\n",
    "    mo.c_harvested_to_thicket.add(expr=sum(mo.X[p,a] for a in mo.Ax) - mo.Y[p+1,'thicket'] == 0)"
   ]
  },
  {
   "cell_type": "code",
   "execution_count": null,
   "metadata": {},
   "outputs": [],
   "source": [
    "mo.c_harvested_to_thicket.pprint()"
   ]
  },
  {
   "cell_type": "markdown",
   "metadata": {},
   "source": [
    "#### Constraint:All thicket area at the beginning of $p$  becomes pole area at beginning of $p+1$, because thicket is never harvested\n",
    "$\n",
    "\\begin{equation*}\n",
    "Y_{p, thicket} - Y_{(p+1), pole} = 0 \\qquad \\forall \\: p \\in P_X\\\\\n",
    "\\end{equation*}\n",
    "$"
   ]
  },
  {
   "cell_type": "code",
   "execution_count": null,
   "metadata": {
    "collapsed": true
   },
   "outputs": [],
   "source": [
    "mo.c_thicket_to_pole = ConstraintList()\n",
    "for p in mo.Px:\n",
    "    mo.c_thicket_to_pole.add(expr=mo.Y[p,'thicket'] - mo.Y[p+1,'pole'] == 0)"
   ]
  },
  {
   "cell_type": "code",
   "execution_count": null,
   "metadata": {},
   "outputs": [],
   "source": [
    "mo.c_thicket_to_pole.pprint()"
   ]
  },
  {
   "cell_type": "markdown",
   "metadata": {},
   "source": [
    "#### Constraint: All pole area at beginning of $p$ that is not harvested during $p$ becomes timber area at beginning of $p+1$\n",
    "$\n",
    "\\begin{equation*}\n",
    "Y_{p,pole} - X_{p,pole} - Y_{(p+1),timber} = 0 \\qquad \\forall \\: p \\in P_X\\\\\n",
    "\\end{equation*}\n",
    "$"
   ]
  },
  {
   "cell_type": "code",
   "execution_count": null,
   "metadata": {
    "collapsed": true
   },
   "outputs": [],
   "source": [
    "mo.c_pole_to_timber = ConstraintList()\n",
    "for p in mo.Px:\n",
    "    mo.c_pole_to_timber.add(expr=mo.Y[p,'pole'] - mo.X[p,'pole'] - mo.Y[p+1,'timber'] == 0)"
   ]
  },
  {
   "cell_type": "code",
   "execution_count": null,
   "metadata": {},
   "outputs": [],
   "source": [
    "mo.c_pole_to_timber.pprint()"
   ]
  },
  {
   "cell_type": "markdown",
   "metadata": {},
   "source": [
    "#### Constraint: All timber and mature timber area at beginning of $p$ that is not harvested during $p$ becomes/remains mature timber area at beginning of $p+1$\n",
    "$\n",
    "\\begin{equation*}\n",
    "Y_{p,mature\\_timber} + Y_{p,timber} - X_{p,mature\\_timber} - X_{p,timber} - Y_{(p+1),mature\\_timber} = 0 \\qquad \\forall \\: p \\in P_X\\\\\n",
    "\\end{equation*}\n",
    "$"
   ]
  },
  {
   "cell_type": "code",
   "execution_count": null,
   "metadata": {
    "collapsed": true
   },
   "outputs": [],
   "source": [
    "mo.c_mature_timber = ConstraintList()\n",
    "for p in mo.Px:\n",
    "    mo.c_mature_timber.add(expr = mo.Y[p,'mature_timber'] + mo.Y[p,'timber'] - mo.X[p,'mature_timber']\n",
    "                                   - mo.X[p,'timber'] - mo.Y[p+1,'mature_timber'] == 0)"
   ]
  },
  {
   "cell_type": "code",
   "execution_count": null,
   "metadata": {
    "scrolled": true
   },
   "outputs": [],
   "source": [
    "mo.c_mature_timber.pprint()"
   ]
  },
  {
   "cell_type": "markdown",
   "metadata": {},
   "source": [
    "### Step 7: Decide on a suitable solver depending on your problem and solve it"
   ]
  },
  {
   "cell_type": "code",
   "execution_count": null,
   "metadata": {
    "collapsed": true
   },
   "outputs": [],
   "source": [
    "with open('logs/opti_model.txt', 'w') as f:\n",
    "    mo.pprint(ostream=f)"
   ]
  },
  {
   "cell_type": "code",
   "execution_count": null,
   "metadata": {},
   "outputs": [],
   "source": [
    "print('--- start solver ---')\n",
    "solver = SolverFactory('cbc', executable=solver_path)\n",
    "solver.solve(mo, tee=True, logfile='logs/solver_log.txt')\n",
    "print('--- finished ---')"
   ]
  },
  {
   "cell_type": "markdown",
   "metadata": {},
   "source": [
    "### Step 8: Process the results"
   ]
  },
  {
   "cell_type": "markdown",
   "metadata": {},
   "source": [
    "Let's first print the results in a table like style by using two nested for loops. The outer loop iterates over all time periods and for each time period, the age classes with the associated harvest propositions are shown. Each level is indented by a tab, which is achieved by using \\\\t in the string.\n",
    "\n",
    "Note that mo.Px and mo.Ax do not need to be sorted, as we used __ordered index sets__ to initialize them in step 2 and the order is therefore preserved."
   ]
  },
  {
   "cell_type": "code",
   "execution_count": null,
   "metadata": {},
   "outputs": [],
   "source": [
    "print('Total Revenue: ' + str(value(mo.obj)) + ' CHF')\n",
    "print('-'*20)\n",
    "print('HARVEST REGIME:')\n",
    "for p in mo.Px:\n",
    "    print('\\tPeriod ' + str(p) + ':')\n",
    "    for a in mo.Ax:\n",
    "        print('\\t\\t' + str(a) + ': ' + str(int(value(mo.X[p,a]))) + '[ha]')"
   ]
  },
  {
   "cell_type": "markdown",
   "metadata": {},
   "source": [
    "### Visualization of the harvest regime with matplotlib\n",
    "The goal of this section is to visualize the results in a nice way using stacked barplots.\n",
    "\n",
    "There are a lot of powerful data visualization packages. In this example we will use the commonly used package matplotlib, which bears a similarity to the default Matlab and R plotting libraries. It is part of the python standard library and thus does not need to be explicitly installed by conda/pip. Let's import the pyplot module as plt. This allows us to use the much shorter prefix plt to access all functions of that module. "
   ]
  },
  {
   "cell_type": "code",
   "execution_count": null,
   "metadata": {
    "collapsed": true
   },
   "outputs": [],
   "source": [
    "import matplotlib.pyplot as plt"
   ]
  },
  {
   "cell_type": "markdown",
   "metadata": {},
   "source": [
    "Because of the key:value pair nature, dictionaries are commonly used to hold configuration parameters. Here we use a dictionary to specify the colors of the bars for each age class. Colors can be specified in many different ways (<a href=\"https://matplotlib.org/api/colors_api.html\" target=\"_blank\">more info</a>), but for convenience let's stick to some predefined named colors:"
   ]
  },
  {
   "cell_type": "code",
   "execution_count": null,
   "metadata": {
    "collapsed": true
   },
   "outputs": [],
   "source": [
    "bar_colors = {\n",
    "    'thicket':'blue',\n",
    "    'pole':'orange', \n",
    "    'timber':'green',\n",
    "    'mature_timber':'red'\n",
    "}"
   ]
  },
  {
   "cell_type": "markdown",
   "metadata": {},
   "source": [
    "The following code then creates a stacked bar plot. The main idea behind creating this stacked barplot is that the _bottom_ argument of the bar function allows us to specify the y-position of the bottom of the bar. Think of it as an absolut y offset of the entire bar. The code iterates over all age classes and each time only draws the bars of the harvested area of the current age class. At the end of an iteration, a list holding the current y-position of the bar bottoms is updatet by adding the current bar heights. In the subsequent iteration this values serve again as bottom for the next bars, therefore plotting them on top of the previous bars.  Follow the inline comments to understand what is going on:"
   ]
  },
  {
   "cell_type": "code",
   "execution_count": null,
   "metadata": {
    "scrolled": true
   },
   "outputs": [],
   "source": [
    "bar_pos = range(len(mo.Px)) # x position of the bars\n",
    "bars_bottom = [0] * len(mo.Px) # initial y-position of bottom of bars (all 0)\n",
    "width = 0.8 \n",
    "bars = {} # empty dictionary to hold a reference to the bar objects for each age class. Used for the legend\n",
    "\n",
    "for a in mo.Ax: # iterate over each age class\n",
    "    harvest_over_periods = [value(mo.X[p, a]) for p in mo.Px] # list that holds the harvested area for the current age class over all time periods\n",
    "    bars[a] = plt.bar(bar_pos, harvest_over_periods, width=width, bottom=bars_bottom, color=bar_colors[a]) # create bars for current age class\n",
    "    bars_bottom = [sum(x) for x in zip(bars_bottom, harvest_over_periods)] # update bars_bottom: Add current bar height\n",
    "\n",
    "plt.ylabel('Harvested during period [ha]')\n",
    "plt.xlabel('Time period')\n",
    "plt.title('Age stage area harvested over time')\n",
    "plt.xticks(bar_pos)\n",
    "plt.legend([bars[a] for a in mo.Ax], mo.Ax) # create legend\n",
    "plt.show()"
   ]
  },
  {
   "cell_type": "markdown",
   "metadata": {},
   "source": [
    "Slight modifications of the code above allow us to plot also the forest area at the beginning of each time period for all age classes:"
   ]
  },
  {
   "cell_type": "code",
   "execution_count": null,
   "metadata": {
    "scrolled": true
   },
   "outputs": [],
   "source": [
    "bar_pos = range(len(mo.P)) # use mo.P instead of mo.Px\n",
    "bars_bottom = [0] * len(mo.P) # use mo.P instead of mo.Px\n",
    "width = 0.8\n",
    "bars = {}\n",
    "\n",
    "for a in mo.A: # use mo.A instead of mo.Ax\n",
    "    area_over_periods = [value(mo.Y[p, a]) for p in mo.P] # use mo.Y instead of mo.X, use mo.P instead of mo.Px\n",
    "    bars[a] = plt.bar(bar_pos, area_over_periods, width, bottom=bars_bottom, color=bar_colors[a])\n",
    "    bars_bottom = [sum(x) for x in zip(bars_bottom, area_over_periods)]\n",
    "\n",
    "plt.ylabel('Forest area at beginning of period [ha]')\n",
    "plt.xlabel('Time period')\n",
    "plt.title('Forest area over time')\n",
    "plt.xticks(bar_pos)\n",
    "plt.legend([bars[a] for a in mo.A], mo.A) # use mo.A instead of mo.Ax\n",
    "plt.show()"
   ]
  },
  {
   "cell_type": "code",
   "execution_count": null,
   "metadata": {
    "collapsed": true
   },
   "outputs": [],
   "source": []
  },
  {
   "cell_type": "code",
   "execution_count": null,
   "metadata": {
    "collapsed": true
   },
   "outputs": [],
   "source": []
  }
 ],
 "metadata": {
  "kernelspec": {
   "display_name": "Python3 - pyomo",
   "language": "python",
   "name": "pyomo_tutorial"
  },
  "language_info": {
   "codemirror_mode": {
    "name": "ipython",
    "version": 3
   },
   "file_extension": ".py",
   "mimetype": "text/x-python",
   "name": "python",
   "nbconvert_exporter": "python",
   "pygments_lexer": "ipython3",
   "version": "3.6.5"
  }
 },
 "nbformat": 4,
 "nbformat_minor": 2
}
