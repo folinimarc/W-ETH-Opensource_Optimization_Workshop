{
 "cells": [
  {
   "cell_type": "markdown",
   "metadata": {},
   "source": [
    "# Spatially explicit optimization - Maximal Covering Location Problem"
   ]
  },
  {
   "cell_type": "markdown",
   "metadata": {},
   "source": [
    "#### Category: Integer programming (IP)"
   ]
  },
  {
   "cell_type": "markdown",
   "metadata": {},
   "source": [
    "#### What is it about?\n",
    "- Use integer programming to solve a Maximal-Covering-Location-Problem (MCLP), whereby you want to maximize the covered __demands__ with a given count of __service facilities__.\n",
    "- Use the numpy library to process the data in order to transform it into a suitable form for the optimization model.\n",
    "- Process the solver output and attach it to shapefiles for subsequent visualization in a GIS software.\n",
    "- Learn about the Parameter component, which allows you to dynamically change parts of the optimization model without rebuilding it each time before optimization."
   ]
  },
  {
   "cell_type": "markdown",
   "metadata": {},
   "source": [
    "## Introduction"
   ]
  },
  {
   "cell_type": "markdown",
   "metadata": {},
   "source": [
    "The canton of Glarus has identified __16 potential sites for fire surveillance stations__ for a region of interest. They would like to __select 8 out of them to maximize coverage__ of forested areas. Coverage should be assessed based on a digital surface model (DSM) to include shading by vegetation. A special emphasis should be given to southern slopes where fire susceptibility is supposed to be higher. - Slides SAMO Exercise 8"
   ]
  },
  {
   "cell_type": "markdown",
   "metadata": {},
   "source": [
    "The following tasks have already been taken care of by a colleague:\n",
    "- The forest polygons in the area of interest were discretized into a raster of forest points with cellsize of 50m. The shapefiles of the discretized forest as well as the potential sites was saved in folder shp.\n",
    "- A visibility analysis was conducted for each of the 16 potential sites to determine which forest points are visible from which site. Additionally, for each forest point the exposition was determined and a weight factor of 2 or 1 was assigned for south facing and non-south facing forest points respectively. The resulting table was saved as an excel file in folder xls."
   ]
  },
  {
   "cell_type": "markdown",
   "metadata": {},
   "source": [
    "## Mathematical model"
   ]
  },
  {
   "cell_type": "markdown",
   "metadata": {},
   "source": [
    "#### Description\n",
    "$\n",
    "\\begin{equation*}\n",
    "n_{facilities}: \\text{Number of potential facilities (surveillance stations)}\\\\\n",
    "n_{demands}: \\text{Number of demands (forest points)}\\\\\n",
    "F : \\text{Set of facilitiy IDs}\\\\\n",
    "D : \\text{Set of demand IDs}\\\\\n",
    "X_f : \\text{Binary variable of whether a potential facility f will be constructed}\\\\\n",
    "Y_d : \\text{Binary variable of whether a demand d is covered by at least one facility}\\\\\n",
    "cov_d: \\text{Set of facilities covering demand d}\\\\\n",
    "w_d: \\text{Weight for each demand d}\\\\\n",
    "p: \\text{Number of facilities to be constructed}\n",
    "\\end{equation*}\n",
    "$\n",
    "\n",
    "#### Index sets\n",
    "$\n",
    "\\begin{equation*}\n",
    "F = \\{0,1,2, ... , (n_{facilities}-1)\\}\\\\\n",
    "D = \\{0,1,2, ... , (n_{demands}-1)\\}\\\\\n",
    "\\end{equation*}\n",
    "$\n",
    "\n",
    "#### Decision variables\n",
    "$\n",
    "\\begin{equation*}\n",
    "X_f \\qquad f \\in F, \\:  X \\in \\{0,1\\}\\\\\n",
    "Y_d \\qquad d \\in D, \\: Y \\in \\{0,1\\}\n",
    "\\end{equation*}\n",
    "$\n",
    "\n",
    "#### Objective\n",
    "$\n",
    "\\begin{equation*}\n",
    "MAX \\: \\sum\\limits_{d \\in D}w_dY_d\n",
    "\\end{equation*}\n",
    "$\n",
    "\n",
    "#### Constraint: Allow $Y_d$ only to be set to 1 if demand $d$ is covered by at least one facility\n",
    "$\n",
    "\\begin{equation*}\n",
    "(\\sum\\limits_{c \\in cov_d}X_c) - Y_d \\geq 0 \\qquad \\forall \\: d \\in D\\\\\n",
    "\\end{equation*}\n",
    "$\n",
    "\n",
    "#### Constraint: Construct exactly p facilities\n",
    "$\n",
    "\\begin{equation*}\n",
    "\\sum\\limits_{f \\in F}X_f = p\n",
    "\\end{equation*}\n",
    "$"
   ]
  },
  {
   "cell_type": "markdown",
   "metadata": {},
   "source": [
    "## Pyomo implementation"
   ]
  },
  {
   "cell_type": "markdown",
   "metadata": {},
   "source": [
    "#### Important: Because the following code cells build on each other, you MUST run every code cell starting from now! If you get an error, try selecting the cell and click \"Cell\" -> \"Run All Above\" in the taskbar above and then run the cell again."
   ]
  },
  {
   "cell_type": "markdown",
   "metadata": {},
   "source": [
    "#### Suggested workflow\n",
    "1. Load all needed packages and data in your script and transform the data into a suitable structure.\n",
    "2. Create a model object.\n",
    "3. Define the index sets.\n",
    "4. Based on the index sets, define the decision variables.\n",
    "5. Specify the objective.\n",
    "6. Specify the constraints.\n",
    "7. Decide on a suitable solver depending on your problem and solve it.\n",
    "8. Process the results."
   ]
  },
  {
   "cell_type": "markdown",
   "metadata": {},
   "source": [
    "### Step 1: Load all needed packages and data in your script and transform the data into a suitable structure\n",
    "- Import everything from pyomo.environ to use it without prefix.\n",
    "- Import numpy for array processing.\n",
    "- Import pandas to read the excel file containing the adjacency list into a dataframe.\n",
    "- Import geopandas to read and write shapefiles from and to dataframes.\n",
    "- Import display from IPython to nicely display pandas and geopandas dataframes."
   ]
  },
  {
   "cell_type": "code",
   "execution_count": null,
   "metadata": {
    "collapsed": true
   },
   "outputs": [],
   "source": [
    "from pyomo.environ import *\n",
    "import numpy as np\n",
    "import pandas as pd\n",
    "import geopandas as gpd\n",
    "from IPython.display import display"
   ]
  },
  {
   "cell_type": "markdown",
   "metadata": {},
   "source": [
    "Specify the path to the solver executable:"
   ]
  },
  {
   "cell_type": "code",
   "execution_count": null,
   "metadata": {
    "collapsed": true
   },
   "outputs": [],
   "source": [
    "# For windows: r'../_Solvers/Cbc-2.9.9-win32-msvc14/bin/cbc.exe'\n",
    "# For ubuntu bionic beaver: r'../_Solvers/Ubuntu_Bionic/Cbc-2.9.8/bin/cbc'\n",
    "solver_path = r'../_Solvers/Cbc-2.9.9-win32-msvc14/bin/cbc.exe'"
   ]
  },
  {
   "cell_type": "markdown",
   "metadata": {},
   "source": [
    "Specify the number surveillance station that are built:"
   ]
  },
  {
   "cell_type": "code",
   "execution_count": null,
   "metadata": {
    "collapsed": true
   },
   "outputs": [],
   "source": [
    "p = 8"
   ]
  },
  {
   "cell_type": "markdown",
   "metadata": {},
   "source": [
    "Use pandas (prefixed pd) to read the excel file, which includes the coverage table and the weights. Each row stands for a __demand (a piece of forest)__, where the last column called RASTERVALU contains the associated __fire risk weights__. The weight is 2 if the forest faces south and is therefore more exposed to fire danger and 1 otherwise. The columns labelled OBS1 ... OBS16 contain the coverage information of the 16 __facilities (potential fire surveillance construction sites)__. A 0 indicates that the demand in that row is not covered (not seen) by the facility in that column. A 1 indicates that the demand is covered (is seen) by the facility."
   ]
  },
  {
   "cell_type": "code",
   "execution_count": null,
   "metadata": {
    "collapsed": true
   },
   "outputs": [],
   "source": [
    "coverage_and_weights_df = pd.read_excel('xls/Coverage_table.xls')\n",
    "display(coverage_and_weights_df[0:10]) # print the first 10 rows"
   ]
  },
  {
   "cell_type": "markdown",
   "metadata": {},
   "source": [
    "Using typical pandas syntax, square brackets allows us to easily extract a column from the dataframe. Because pandas dataframes are based on numpy arrays, we can extract the underlying numpy array by accessing the .values attribute. Now we have the weight array __w__ in a suitable form for our model:"
   ]
  },
  {
   "cell_type": "code",
   "execution_count": null,
   "metadata": {
    "collapsed": true,
    "scrolled": true
   },
   "outputs": [],
   "source": [
    "w = coverage_and_weights_df['RASTERVALU'].values\n",
    "print(w[0:20]) # print the first 20 entries"
   ]
  },
  {
   "cell_type": "markdown",
   "metadata": {},
   "source": [
    "The length of w gives us $n_{demands}$:"
   ]
  },
  {
   "cell_type": "code",
   "execution_count": null,
   "metadata": {
    "collapsed": true
   },
   "outputs": [],
   "source": [
    "n_demands = len(w)\n",
    "print(n_demands)"
   ]
  },
  {
   "cell_type": "markdown",
   "metadata": {},
   "source": [
    "All columns of the excel file except for OBJECTID and the RASTERVALU contain coverage information about facilities. $n_{facilities}$ can therefore be obtained by the total number of columns - 2. In numpy and pandas, the __.shape__ attribute holds a tuple of the data dimensions. For 2-dimensional data, the first entry corresponds to the number of rows and the second to the number of columns. "
   ]
  },
  {
   "cell_type": "code",
   "execution_count": null,
   "metadata": {
    "collapsed": true
   },
   "outputs": [],
   "source": [
    "n_facilities = coverage_and_weights_df.shape[1] - 2\n",
    "print(n_facilities)"
   ]
  },
  {
   "cell_type": "markdown",
   "metadata": {},
   "source": [
    "Next we want to extract columns OBS1 ... OBS16 into an 2-dimensional numpy array (matrix), to process it further. Multiple columns in pandas can be accessed by a list of the columns names. To that end, we first use a list comprehension, to generate a list containing the strings OBS1 ... OBS16:"
   ]
  },
  {
   "cell_type": "code",
   "execution_count": null,
   "metadata": {
    "collapsed": true,
    "scrolled": true
   },
   "outputs": [],
   "source": [
    "column_names = ['OBS' + str(n+1) for n in range(n_facilities)]\n",
    "print(column_names)"
   ]
  },
  {
   "cell_type": "markdown",
   "metadata": {},
   "source": [
    "Just as with the weights, let's first grab the columns and then extract the underlying numpy arrays."
   ]
  },
  {
   "cell_type": "code",
   "execution_count": null,
   "metadata": {
    "collapsed": true,
    "scrolled": true
   },
   "outputs": [],
   "source": [
    "coverage_table = coverage_and_weights_df[column_names].values\n",
    "print(coverage_table[0:7]) # print the first 7 rows"
   ]
  },
  {
   "cell_type": "markdown",
   "metadata": {},
   "source": [
    "The coverage table is not quite in a form that is suitable for later use in the model. Look at the definition of $cov_d$ in the mathematical model: \n",
    "\n",
    "\\begin{equation*}\n",
    "cov_d: \\text{Set of facilities covered by demand d}\\\\\n",
    "\\end{equation*}\n",
    "\n",
    "We want to process the data in a way, that for each demand $d$ the binary representaion of a covering facility is aggregated to that facilities index set value. Let's take the second demand ($d=1$) of the coverage table as an example: It's coverage looks like this [1 1 0 0 0 0 0 1 1 1 1 0 0 0 0 0]. In the optimization model, that means this demand is potentially covered by the facilities decision variables X[0], X[1], X[7], X[8], X[9] and X[10]. Therefore we want $cov_1 = [0, 1, 7, 8, 9, 10]$. \n",
    "\n",
    "The final data structure $cov$ will be a dictionary containing $cov_d$ for each demand $d$ that is covered by at least 1 facility. Let's do it!"
   ]
  },
  {
   "cell_type": "markdown",
   "metadata": {},
   "source": [
    "In a first step, the numpy function __nonzero()__ can be used on a matrix to generate __row/column pairs of non-zero elements__. It will return 2 arrays of same length, one containing the indices of the rows (demands) and one containing the indices of the associated columns (facilities) of all non-zero elements."
   ]
  },
  {
   "cell_type": "code",
   "execution_count": null,
   "metadata": {
    "collapsed": true,
    "scrolled": true
   },
   "outputs": [],
   "source": [
    "demands, facilities = np.nonzero(coverage_table)"
   ]
  },
  {
   "cell_type": "markdown",
   "metadata": {},
   "source": [
    "Let's take a moment to print these two arrays. Using the __zip()__ function with two arrays as input returns __pairs of elements__ of the arrays. Together with pythons multiple variable assignment, this can be used in a for-loop to easily iterate pairwise over multiple arrays: "
   ]
  },
  {
   "cell_type": "code",
   "execution_count": null,
   "metadata": {
    "collapsed": true
   },
   "outputs": [],
   "source": [
    "print('D / F')\n",
    "print('----')\n",
    "for demand, facility in zip(demands, facilities):\n",
    "    print(str(demand) + ' / ' + str(facility))"
   ]
  },
  {
   "cell_type": "markdown",
   "metadata": {},
   "source": [
    "First, $cov$ is initialized as an empty dictionary. We then loop over each demand/facility pair (a non-zero entry in the binary coverage table). We use the __in__ operator to check if there exists already an entry with demand $d$ as key. If that is not the case, we initialize the entry with an empty list. If an entry already exists, facility $f$ is appended to the list that is associated with the demand key $d$. Note that the __in__ lookup operation is blazingly fast in dictionaries compared to lists, which is due to the different ways dictionaries and lists structure the data behind the scene (more <a href=\"https://www.safaribooksonline.com/library/view/high-performance-python/9781449361747/ch04.html\" target=\"_blank\">here</a>)."
   ]
  },
  {
   "cell_type": "code",
   "execution_count": null,
   "metadata": {
    "collapsed": true
   },
   "outputs": [],
   "source": [
    "cov = {}\n",
    "for d,f in zip(demands, facilities):\n",
    "    if d not in cov:\n",
    "        cov[d] = []\n",
    "    cov[d].append(f)"
   ]
  },
  {
   "cell_type": "markdown",
   "metadata": {},
   "source": [
    "With just 4 lines of code we can nicely print the result:"
   ]
  },
  {
   "cell_type": "code",
   "execution_count": null,
   "metadata": {
    "collapsed": true
   },
   "outputs": [],
   "source": [
    "print('Demand: List of facilities covering demand')\n",
    "print('-'*20)\n",
    "for d,f in sorted(cov.items()):\n",
    "    print(str(d) + ': ' + str(f))"
   ]
  },
  {
   "cell_type": "markdown",
   "metadata": {},
   "source": [
    "Looks good! Now the coverage information __cov__ is in a suitable form for the model."
   ]
  },
  {
   "cell_type": "markdown",
   "metadata": {},
   "source": [
    "__That is it for the data preparation!__ The following data is now ready in a suitable form to be used in the model:\n",
    "- $n_{demands}$\n",
    "- $n_{facilities}$\n",
    "- $w$\n",
    "- $cov$"
   ]
  },
  {
   "cell_type": "markdown",
   "metadata": {},
   "source": [
    "### Step 2: Create a model object\n",
    "Create a concrete model object and save it as mo:"
   ]
  },
  {
   "cell_type": "code",
   "execution_count": null,
   "metadata": {
    "collapsed": true
   },
   "outputs": [],
   "source": [
    "mo = ConcreteModel()"
   ]
  },
  {
   "cell_type": "markdown",
   "metadata": {},
   "source": [
    "### Step 3: Define the index sets\n",
    "$\n",
    "\\begin{equation*}\n",
    "F = \\{0,1,2, ... , (n_{facilities}-1)\\}\\\\\n",
    "D = \\{0,1,2, ... , (n_{demands}-1)\\}\\\\\n",
    "\\end{equation*}\n",
    "$"
   ]
  },
  {
   "cell_type": "code",
   "execution_count": null,
   "metadata": {
    "collapsed": true
   },
   "outputs": [],
   "source": [
    "mo.F = Set(initialize=range(n_facilities))\n",
    "mo.D = Set(initialize=range(n_demands))"
   ]
  },
  {
   "cell_type": "code",
   "execution_count": null,
   "metadata": {
    "collapsed": true
   },
   "outputs": [],
   "source": [
    "mo.F.pprint()"
   ]
  },
  {
   "cell_type": "code",
   "execution_count": null,
   "metadata": {
    "collapsed": true,
    "scrolled": true
   },
   "outputs": [],
   "source": [
    "mo.D.pprint()"
   ]
  },
  {
   "cell_type": "markdown",
   "metadata": {},
   "source": [
    "### Step 4: Based on the index sets, define the decision variables\n",
    "$\n",
    "\\begin{equation*}\n",
    "X_f \\qquad f \\in F, \\:  X \\in \\{0,1\\}\\\\\n",
    "Y_d \\qquad d \\in D, \\: Y \\in \\{0,1\\}\\\\\n",
    "\\end{equation*}\n",
    "$"
   ]
  },
  {
   "cell_type": "code",
   "execution_count": null,
   "metadata": {
    "collapsed": true
   },
   "outputs": [],
   "source": [
    "mo.X = Var(mo.F, within=Binary, initialize=0)\n",
    "mo.Y = Var(mo.D, within=Binary, initialize=0)"
   ]
  },
  {
   "cell_type": "code",
   "execution_count": null,
   "metadata": {
    "collapsed": true,
    "scrolled": true
   },
   "outputs": [],
   "source": [
    "mo.X.pprint()"
   ]
  },
  {
   "cell_type": "code",
   "execution_count": null,
   "metadata": {
    "collapsed": true
   },
   "outputs": [],
   "source": [
    "mo.Y.pprint()"
   ]
  },
  {
   "cell_type": "markdown",
   "metadata": {},
   "source": [
    "### Step 5: Specify the objective\n",
    "$\n",
    "\\begin{equation*}\n",
    "MAX \\: \\sum\\limits_{d \\in D}w_dY_d\\\\\n",
    "\\end{equation*}\n",
    "$"
   ]
  },
  {
   "cell_type": "code",
   "execution_count": null,
   "metadata": {
    "collapsed": true
   },
   "outputs": [],
   "source": [
    "mo.obj = Objective(sense=maximize,\n",
    "                   expr=sum(w[d] * mo.Y[d] for d in mo.D))"
   ]
  },
  {
   "cell_type": "code",
   "execution_count": null,
   "metadata": {
    "collapsed": true
   },
   "outputs": [],
   "source": [
    "mo.obj.pprint()"
   ]
  },
  {
   "cell_type": "markdown",
   "metadata": {},
   "source": [
    "### Step 6: Specify the constraints"
   ]
  },
  {
   "cell_type": "markdown",
   "metadata": {},
   "source": [
    "#### Constraint: Allow $Y_d$ only to be set to 1 if covered by at least one facility\n",
    "$\n",
    "\\begin{equation*}\n",
    "(\\sum\\limits_{c \\in cov_d}X_c) - Y_d \\geq 0 \\qquad \\forall \\: d \\in D\\\\\n",
    "\\end{equation*}\n",
    "$\n",
    "<br>\n",
    "For each demand we first try to extract from the cov dictionary the list of facilities covering that demand. Remember that if a demand is not covered by any facility, there is no corresponding entry in the dictionary. Using __.get(d, [ ])__ checks if an entry with key $d$ exists and returns the corresponding values if that is the case. If no key $d$ exists, the specified default value is returned, which is an empty list in this case. Note, that this leads to a constraint like $-Y_d >= 0$ for each demand $d$ that is not covered by any facilities, therefore basically constraining the decision variable $Y_d$ to 0."
   ]
  },
  {
   "cell_type": "code",
   "execution_count": null,
   "metadata": {
    "collapsed": true
   },
   "outputs": [],
   "source": [
    "mo.c_coverage = ConstraintList()\n",
    "for d in mo.D:\n",
    "    cov_d = cov.get(d, [])\n",
    "    mo.c_coverage.add(expr=sum(mo.X[c] for c in cov_d) - mo.Y[d] >= 0)"
   ]
  },
  {
   "cell_type": "code",
   "execution_count": null,
   "metadata": {
    "collapsed": true
   },
   "outputs": [],
   "source": [
    "mo.c_coverage.pprint()"
   ]
  },
  {
   "cell_type": "markdown",
   "metadata": {},
   "source": [
    "#### Constraint: Construct exactly p facilities\n",
    "$\n",
    "\\begin{equation*}\n",
    "\\sum\\limits_{f \\in F}X_f = p\\\\\n",
    "\\end{equation*}\n",
    "$"
   ]
  },
  {
   "cell_type": "code",
   "execution_count": null,
   "metadata": {
    "collapsed": true
   },
   "outputs": [],
   "source": [
    "mo.c_facility_count = Constraint(expr=sum(mo.X[f] for f in mo.F) == p)"
   ]
  },
  {
   "cell_type": "code",
   "execution_count": null,
   "metadata": {
    "collapsed": true
   },
   "outputs": [],
   "source": [
    "mo.c_facility_count.pprint()"
   ]
  },
  {
   "cell_type": "markdown",
   "metadata": {},
   "source": [
    "### Step 7: Decide on a suitable solver depending on your problem and solve it\n",
    "Save model structure to a filename opti_model.txt in folder logs. Then create a solver object using the CBC solver as this is a IP. Save solver log to solver_log.txt in folder logs. With keword tee=True, log will also be printed."
   ]
  },
  {
   "cell_type": "code",
   "execution_count": null,
   "metadata": {
    "collapsed": true
   },
   "outputs": [],
   "source": [
    "with open('logs/opti_model.txt', 'w') as f:\n",
    "    mo.pprint(ostream=f)"
   ]
  },
  {
   "cell_type": "code",
   "execution_count": null,
   "metadata": {
    "collapsed": true
   },
   "outputs": [],
   "source": [
    "print('--- start solver ---')\n",
    "solver = SolverFactory('cbc', executable=solver_path)\n",
    "solver.solve(mo, tee=True, logfile='logs/solver_log.txt')\n",
    "print('--- finished ---')"
   ]
  },
  {
   "cell_type": "markdown",
   "metadata": {},
   "source": [
    "### Step 8: Process the results"
   ]
  },
  {
   "cell_type": "markdown",
   "metadata": {},
   "source": [
    "The goal of this section is to convert the model solution from its binary form into something more visual. Let's start by simply printing the decision variables of the potential facility locations:"
   ]
  },
  {
   "cell_type": "code",
   "execution_count": null,
   "metadata": {
    "collapsed": true
   },
   "outputs": [],
   "source": [
    "for k,v in mo.X.items():\n",
    "    print(str(k) + ': ' + str(int(value(v))))"
   ]
  },
  {
   "cell_type": "markdown",
   "metadata": {},
   "source": [
    "It would also be interesting to know how many demands are covered:"
   ]
  },
  {
   "cell_type": "code",
   "execution_count": null,
   "metadata": {
    "collapsed": true
   },
   "outputs": [],
   "source": [
    "demands_covered = sum(value(y) for y in mo.Y.values())\n",
    "percentage_covered = demands_covered / n_demands * 100\n",
    "\n",
    "print('Demands covered with ' + str(p) + ' facilities: ' + str(int(demands_covered)))\n",
    "print('Demands total: ' + str(n_demands))\n",
    "print('Percentage: ' + str(round(percentage_covered)) + '%')"
   ]
  },
  {
   "cell_type": "markdown",
   "metadata": {},
   "source": [
    "To visualize which facilities were chosen for construction, let's add a new attribute __selected__ to the shape file containing the point features of potential facility locations. First use geopandas to read the shape file:"
   ]
  },
  {
   "cell_type": "code",
   "execution_count": null,
   "metadata": {
    "collapsed": true
   },
   "outputs": [],
   "source": [
    "shp_facilities = gpd.read_file(\"shp/facility_locations.shp\")\n",
    "display(shp_facilities)"
   ]
  },
  {
   "cell_type": "markdown",
   "metadata": {},
   "source": [
    "Next we use a sorted version of the facilities index set to create a list of all facilities decision variables. Sorting the index set assures assures that we access the decision variables in ascending order when constructing the list (X[0], X[1], X[2], etc..). Additionally, the values of the decision variables are converted to integers as they are binary anyway. The resulting list is added as a new attribute to the shapefile using the pandas syntax square brackets:"
   ]
  },
  {
   "cell_type": "code",
   "execution_count": null,
   "metadata": {
    "collapsed": true,
    "scrolled": true
   },
   "outputs": [],
   "source": [
    "shp_facilities['selected'] = list(int(mo.X[f].value) for f in sorted(mo.F))\n",
    "display(shp_facilities)"
   ]
  },
  {
   "cell_type": "markdown",
   "metadata": {},
   "source": [
    "The modified shapefile is exported to the folder __result__."
   ]
  },
  {
   "cell_type": "code",
   "execution_count": null,
   "metadata": {
    "collapsed": true
   },
   "outputs": [],
   "source": [
    "shp_facilities.to_file(filename='result/selected_facilities.shp', driver='ESRI Shapefile')"
   ]
  },
  {
   "cell_type": "markdown",
   "metadata": {},
   "source": [
    "Let's repeat this process for the demands (forest points), whereby we add an attribute __covered__ to indicate whether a particular demand is covered by at least a facility or not:"
   ]
  },
  {
   "cell_type": "code",
   "execution_count": null,
   "metadata": {
    "collapsed": true
   },
   "outputs": [],
   "source": [
    "shp = gpd.read_file(\"shp/forest_point_coverage_weight.shp\")\n",
    "shp['covered'] = list(mo.Y[d].value for d in sorted(mo.D))\n",
    "shp.to_file(filename='result/covered_demands.shp', driver='ESRI Shapefile')"
   ]
  },
  {
   "cell_type": "markdown",
   "metadata": {},
   "source": [
    "That's it! Feel free to have a look at the resulting shapefiles!"
   ]
  },
  {
   "cell_type": "markdown",
   "metadata": {},
   "source": [
    "## Advanced topic:  Parameter  component"
   ]
  },
  {
   "cell_type": "markdown",
   "metadata": {},
   "source": [
    "The parameter component allows us to alter model data without having to rebuild the model completely every time. This is useful, if you want to solve a model several times with slight adjustments. In our case we want to create a __graph that shows the percentage of covered demands as function of the number of constructed facilities__. As we have 16 potential construction sites, let's solve the model 16 times whereby in the first run only 1 facility is constructed, in the seconds run 2 and so on... To that end, all we have to change between model runs is $p$."
   ]
  },
  {
   "cell_type": "markdown",
   "metadata": {},
   "source": [
    "Let's first have a look at the constraint that forces the model to construct exactly $p$ facilities. Note that $p$ does not show up in the constraint. The moment the constraint was added to the model, pyomo used the value of $p$ (which is 8). To run the model with varying values for $p$ therefore forces us to __replace__ every component that uses $p$ each time. In a more complex model this can be very time consuming."
   ]
  },
  {
   "cell_type": "code",
   "execution_count": null,
   "metadata": {
    "collapsed": true,
    "scrolled": true
   },
   "outputs": [],
   "source": [
    "mo.c_facility_count.pprint()"
   ]
  },
  {
   "cell_type": "markdown",
   "metadata": {},
   "source": [
    "The solution is to use a __mutable parameter component__. Note that the initialization is similar to the set component. To indicate that this is a pyomo component, I attach it to the model."
   ]
  },
  {
   "cell_type": "code",
   "execution_count": null,
   "metadata": {
    "collapsed": true
   },
   "outputs": [],
   "source": [
    "mo.p = Param(initialize=8, mutable=True)\n",
    "mo.p.pprint()"
   ]
  },
  {
   "cell_type": "markdown",
   "metadata": {},
   "source": [
    "We now delete the old constraint and replace it with a new version that uses the parameter component $mo.p$. Otherwise everything remains the same. When printing the component, note that $p$ is now showing up in the constraint instead of its value of 8."
   ]
  },
  {
   "cell_type": "code",
   "execution_count": null,
   "metadata": {
    "collapsed": true
   },
   "outputs": [],
   "source": [
    "mo.del_component(mo.c_facility_count)\n",
    "mo.c_facility_count = Constraint(expr=sum(mo.X[f] for f in mo.F) == mo.p)\n",
    "mo.c_facility_count.pprint()"
   ]
  },
  {
   "cell_type": "markdown",
   "metadata": {},
   "source": [
    "Let's now loop from 1 to 16 using loop variable $k$. In each iteration, let's change parameter $mo.p$, solve the model and calculate the percentage of covered demands. We only have to change the parameter $mo.p$ and pyomo will take care of the rest. The number of constructed facilities and the corresponding percentage are added to lists for subsequent plotting."
   ]
  },
  {
   "cell_type": "code",
   "execution_count": null,
   "metadata": {
    "collapsed": true
   },
   "outputs": [],
   "source": [
    "percentage_covered_list = []\n",
    "nr_facilities_list = []\n",
    "\n",
    "for k in range(1, n_facilities+1):\n",
    "    mo.p = k\n",
    "    solver = SolverFactory('cbc', executable=solver_path)\n",
    "    solver.solve(mo)\n",
    "    \n",
    "    demands_covered = sum(value(y) for y in mo.Y.values())\n",
    "    percentage_covered = round(demands_covered / n_demands * 100)\n",
    "    percentage_covered_list.append(percentage_covered)\n",
    "    nr_facilities_list.append(k)\n",
    "    print('Stations constructed: ' + str(k) + '/' + str(n_facilities) + ' -> ' + str(percentage_covered) + '% coverage')"
   ]
  },
  {
   "cell_type": "markdown",
   "metadata": {},
   "source": [
    "Lets plot the results:"
   ]
  },
  {
   "cell_type": "code",
   "execution_count": null,
   "metadata": {
    "collapsed": true,
    "scrolled": true
   },
   "outputs": [],
   "source": [
    "import matplotlib.pyplot as plt\n",
    "\n",
    "plt.plot(nr_facilities_list, percentage_covered_list)\n",
    "plt.xlabel('Number of facilities constructed')\n",
    "plt.ylabel('Percentage covered [%]')\n",
    "plt.show()"
   ]
  },
  {
   "cell_type": "markdown",
   "metadata": {},
   "source": [
    "If no plot is shown, run the cell above again using Shift + Enter."
   ]
  },
  {
   "cell_type": "markdown",
   "metadata": {},
   "source": [
    "We can see how the percentage most strongly increases from 1 to 5 facilities. Interestingly enough, even with all 16 facilities the percentage of covered demands is below 50%. That could indicate suboptimal placement of the 16 potential construction sites or a lack in the ability of our model to represent the real situation."
   ]
  },
  {
   "cell_type": "code",
   "execution_count": null,
   "metadata": {
    "collapsed": true
   },
   "outputs": [],
   "source": []
  }
 ],
 "metadata": {
  "kernelspec": {
   "display_name": "Python3 - pyomo",
   "language": "python",
   "name": "pyomo_tutorial"
  },
  "language_info": {
   "codemirror_mode": {
    "name": "ipython",
    "version": 3
   },
   "file_extension": ".py",
   "mimetype": "text/x-python",
   "name": "python",
   "nbconvert_exporter": "python",
   "pygments_lexer": "ipython3",
   "version": "3.6.5"
  }
 },
 "nbformat": 4,
 "nbformat_minor": 2
}
