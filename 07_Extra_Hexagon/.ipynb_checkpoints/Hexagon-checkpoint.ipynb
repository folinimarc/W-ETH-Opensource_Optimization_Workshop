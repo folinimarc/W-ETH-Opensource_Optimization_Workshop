{
 "cells": [
  {
   "cell_type": "markdown",
   "metadata": {},
   "source": [
    "# The Hexagon problem"
   ]
  },
  {
   "cell_type": "markdown",
   "metadata": {},
   "source": [
    "#### Category: Integer programming (IP)"
   ]
  },
  {
   "cell_type": "markdown",
   "metadata": {},
   "source": [
    "#### What is it about?\n",
    "- Use integer programming to solve a combinatorial game."
   ]
  },
  {
   "cell_type": "markdown",
   "metadata": {},
   "source": [
    "## Introduction"
   ]
  },
  {
   "cell_type": "markdown",
   "metadata": {},
   "source": [
    "Given are the numbers -46, -26, -19, -9, 68, 69, 99 and the hexagons (0) - (6) below. Solve the following problem:\n",
    "\n",
    "- Each of the given numbers needs to be filled into exactly one hexygon (0) - (6).\n",
    "- The number in each hexagon must match the sum of all 6 adjacent hexagons.\n",
    "- Some hexagons values are fixed (blue hexagons), meaning that their values can not be be changed by the solver."
   ]
  },
  {
   "cell_type": "markdown",
   "metadata": {},
   "source": [
    "<img src=\"docs/WorkshopOptimization_Hexagon.png\" width=\"25%\"/>"
   ]
  },
  {
   "cell_type": "markdown",
   "metadata": {},
   "source": [
    "## Mathematical model"
   ]
  },
  {
   "cell_type": "markdown",
   "metadata": {},
   "source": [
    "#### Description\n",
    "$\n",
    "\\begin{equation*}\n",
    "n_{hexagons} : \\text{Number of hexagons}\\\\\n",
    "n_{numbers} : \\text{Number of numbers to assign to hexagons}\\\\\n",
    "H : \\text{Set of non-fixed hexagons (0) - (6)}\\\\\n",
    "N : \\text{Set of number indices}\\\\\n",
    "X_{h,n} : \\text{Binary variable whether number $k_n$ is assigned to hexagon h}\\\\\n",
    "k : \\text{List with $n_{numbers}$ elements containing the numbers that can be assigned to the hexagons }\\\\\n",
    "adj_h : \\text{Adjacency dictionary containing a list of adjacent non-fixed hexagon for each hexagon h}\\\\\n",
    "s_h : \\text{Dictionary containing the sum of all fixed neighbouring hexagons for each hexagon h}\\\\\n",
    "\\end{equation*}\n",
    "$\n",
    "\n",
    "#### Index set\n",
    "$\n",
    "\\begin{equation*}\n",
    "H = \\{0,1,2,...,(n_{hexagons}-1)\\}\\\\\n",
    "N = \\{0,1,2,...,(n_{numbers}-1)\\}\\\\\n",
    "\\end{equation*}\n",
    "$\n",
    "\n",
    "#### Decision variables\n",
    "$\n",
    "\\begin{equation*}\n",
    "X_{h,n} \\qquad h \\in H, \\: n \\in N, \\: X \\in \\{0,1\\}\\\\\n",
    "\\end{equation*}\n",
    "$\n",
    "\n",
    "#### Objective\n",
    "$\n",
    "\\begin{equation*}\n",
    "MAX \\: \\sum\\limits_{h \\in H} \\sum\\limits_{n \\in N}X_{h,n}\\\\\n",
    "\\end{equation*}\n",
    "$\n",
    "\n",
    "#### Constraint: Assign exactly one number to a hexagon\n",
    "$\n",
    "\\begin{equation*}\n",
    "\\sum\\limits_{n \\in N}X_{h,n} = 1 \\qquad \\forall \\: h \\in H\\\\\n",
    "\\end{equation*}\n",
    "$\n",
    "\n",
    "#### Constraint: Assign each number at most once to a hexagon\n",
    "$\n",
    "\\begin{equation*}\n",
    "\\sum\\limits_{h \\in H}X_{h,n} \\leq 1 \\qquad \\forall \\: n \\in N\\\\\n",
    "\\end{equation*}\n",
    "$\n",
    "\n",
    "#### Constraint: Assigned number must match the sum of all adjacent hexagons\n",
    "$\n",
    "\\begin{equation*}\n",
    "(\\sum\\limits_{n \\in N}k_nX_{h,n}) - s_h - (\\sum\\limits_{a \\in adj_h}\\sum\\limits_{n \\in N}k_nX_{a,n}) = 0 \\qquad \\forall \\: h \\in H\\\\\n",
    "\\end{equation*}\n",
    "$"
   ]
  },
  {
   "cell_type": "markdown",
   "metadata": {},
   "source": [
    "## Pyomo implementation"
   ]
  },
  {
   "cell_type": "markdown",
   "metadata": {},
   "source": [
    "#### Important: Because the following code cells build on each other, you MUST run every code cell starting from now! If you get an error, try selecting the cell and click \"Cell\" -> \"Run All Above\" in the taskbar above and then run the cell again."
   ]
  },
  {
   "cell_type": "markdown",
   "metadata": {},
   "source": [
    "#### Suggested workflow\n",
    "1. Load all needed packages and data in your script and transform the data into a suitable structure.\n",
    "2. Create a model object.\n",
    "3. Define the index sets.\n",
    "4. Based on the index sets, define the decision variables.\n",
    "5. Specify the objective.\n",
    "6. Specify the constraints.\n",
    "7. Decide on a suitable solver depending on your problem and solve it.\n",
    "8. Process the results."
   ]
  },
  {
   "cell_type": "markdown",
   "metadata": {},
   "source": [
    "### Step 1: Load all needed packages and data in your script and transform the data into a suitable structure"
   ]
  },
  {
   "cell_type": "code",
   "execution_count": null,
   "metadata": {
    "collapsed": true
   },
   "outputs": [],
   "source": [
    "from pyomo.environ import *"
   ]
  },
  {
   "cell_type": "markdown",
   "metadata": {},
   "source": [
    "Specify the path to the solver executable:"
   ]
  },
  {
   "cell_type": "code",
   "execution_count": null,
   "metadata": {
    "collapsed": true
   },
   "outputs": [],
   "source": [
    "# For windows: r'../_Solvers/Cbc-2.9.9-win32-msvc14/bin/cbc.exe'\n",
    "# For ubuntu bionic beaver: r'../_Solvers/Ubuntu_Bionic/Cbc-2.9.8/bin/cbc'\n",
    "solver_path = r'../_Solvers/Cbc-2.9.9-win32-msvc14/bin/cbc.exe'"
   ]
  },
  {
   "cell_type": "markdown",
   "metadata": {},
   "source": [
    "Create list $k$ that consists of the numbers to be assigned to the hexagons:"
   ]
  },
  {
   "cell_type": "code",
   "execution_count": null,
   "metadata": {
    "collapsed": true
   },
   "outputs": [],
   "source": [
    "k = [-46, -26, -19, -9, 68, 69, 99]"
   ]
  },
  {
   "cell_type": "markdown",
   "metadata": {},
   "source": [
    "Specify the number of hexagons and numbers:"
   ]
  },
  {
   "cell_type": "code",
   "execution_count": null,
   "metadata": {
    "collapsed": true
   },
   "outputs": [],
   "source": [
    "n_hexagons = 7\n",
    "n_numbers = len(k)"
   ]
  },
  {
   "cell_type": "markdown",
   "metadata": {},
   "source": [
    "Let's store the adjacencies in a dictionary:"
   ]
  },
  {
   "cell_type": "code",
   "execution_count": null,
   "metadata": {
    "collapsed": true
   },
   "outputs": [],
   "source": [
    "adj = {\n",
    "    0: [1, 2, 3, 4, 5, 6],\n",
    "    1: [0, 2, 6],\n",
    "    2: [0, 1, 3],\n",
    "    3: [0, 2, 4],\n",
    "    4: [0, 3, 5],\n",
    "    5: [0, 4, 6],\n",
    "    6: [0, 1, 5]\n",
    "}"
   ]
  },
  {
   "cell_type": "markdown",
   "metadata": {},
   "source": [
    "For each hexagon, precalculate the sum of all adjancent fixed hexagons that will stay constant during the optimization:"
   ]
  },
  {
   "cell_type": "code",
   "execution_count": null,
   "metadata": {},
   "outputs": [],
   "source": [
    "s = {\n",
    "    0: 0,\n",
    "    1: sum([-86, 99, -18]),\n",
    "    2: sum([-18, -36, -12]),\n",
    "    3: sum([-12, -59, -59]),\n",
    "    4: sum([48, -68, -59]),\n",
    "    5: sum([-62, 22, 48]),\n",
    "    6: sum([-86, -56, -62])\n",
    "}\n",
    "\n",
    "print(s)"
   ]
  },
  {
   "cell_type": "markdown",
   "metadata": {},
   "source": [
    "### Step 2: Create a model object"
   ]
  },
  {
   "cell_type": "code",
   "execution_count": null,
   "metadata": {
    "collapsed": true
   },
   "outputs": [],
   "source": [
    "mo = ConcreteModel()"
   ]
  },
  {
   "cell_type": "markdown",
   "metadata": {},
   "source": [
    "### Step 3: Define the index set\n",
    "$\n",
    "\\begin{equation*}\n",
    "H = \\{0,1,2,...,(n_{hexagons}-1)\\}\\\\\n",
    "N = \\{0,1,2,...,(n_{numbers}-1)\\}\\\\\n",
    "\\end{equation*}\n",
    "$"
   ]
  },
  {
   "cell_type": "code",
   "execution_count": null,
   "metadata": {
    "collapsed": true,
    "scrolled": true
   },
   "outputs": [],
   "source": [
    "mo.H = Set(initialize=range(n_hexagons))\n",
    "mo.N = Set(initialize=range(n_numbers))"
   ]
  },
  {
   "cell_type": "code",
   "execution_count": null,
   "metadata": {},
   "outputs": [],
   "source": [
    "mo.H.pprint()"
   ]
  },
  {
   "cell_type": "code",
   "execution_count": null,
   "metadata": {},
   "outputs": [],
   "source": [
    "mo.N.pprint()"
   ]
  },
  {
   "cell_type": "markdown",
   "metadata": {},
   "source": [
    "### Step 4: Based on the index set, define the decision variables\n",
    "$\n",
    "\\begin{equation*}\n",
    "X_{h,n} \\qquad h \\in H, \\: n \\in N, \\: X \\in \\{0,1\\}\\\\\n",
    "\\end{equation*}\n",
    "$"
   ]
  },
  {
   "cell_type": "code",
   "execution_count": null,
   "metadata": {
    "collapsed": true,
    "scrolled": true
   },
   "outputs": [],
   "source": [
    "mo.X = Var(mo.H, mo.N, within=Binary, initialize=0)"
   ]
  },
  {
   "cell_type": "code",
   "execution_count": null,
   "metadata": {},
   "outputs": [],
   "source": [
    "mo.X.pprint()"
   ]
  },
  {
   "cell_type": "markdown",
   "metadata": {},
   "source": [
    "### Step 5: Specify the objective\n",
    "$\n",
    "\\begin{equation*}\n",
    "MAX \\: \\sum\\limits_{h \\in H} \\sum\\limits_{n \\in N}X_{h,n}\\\\\n",
    "\\end{equation*}\n",
    "$\n",
    "\n",
    "The objective function simply consists of maximizing the sum of all binary decision variables. The model therefore tries to assign as many numbers to as many hexygons as possible. Because the constraints only allow for certain combinations, the optimal assignment pattern will also be the one that allows for the most assignments."
   ]
  },
  {
   "cell_type": "code",
   "execution_count": null,
   "metadata": {
    "collapsed": true,
    "scrolled": true
   },
   "outputs": [],
   "source": [
    "mo.obj = Objective(sense=maximize,\n",
    "                    expr=sum(mo.X[h,n] for h in mo.H for n in mo.N))"
   ]
  },
  {
   "cell_type": "code",
   "execution_count": null,
   "metadata": {},
   "outputs": [],
   "source": [
    "mo.obj.pprint()"
   ]
  },
  {
   "cell_type": "markdown",
   "metadata": {},
   "source": [
    "### Step 6: Specify the constraints"
   ]
  },
  {
   "cell_type": "markdown",
   "metadata": {},
   "source": [
    "#### Constraint: Assign exactly one number to a hexagon\n",
    "$\n",
    "\\begin{equation*}\n",
    "\\sum\\limits_{n \\in N}X_{h,n} = 1 \\qquad \\forall \\: h \\in H\\\\\n",
    "\\end{equation*}\n",
    "$"
   ]
  },
  {
   "cell_type": "code",
   "execution_count": null,
   "metadata": {
    "collapsed": true,
    "scrolled": false
   },
   "outputs": [],
   "source": [
    "mo.c_one_number_per_hexagon = ConstraintList()\n",
    "for h in mo.H:\n",
    "    mo.c_one_number_per_hexagon.add(expr=sum(mo.X[h,n] for n in mo.N) == 1)"
   ]
  },
  {
   "cell_type": "code",
   "execution_count": null,
   "metadata": {
    "scrolled": true
   },
   "outputs": [],
   "source": [
    "mo.c_one_number_per_hexagon.pprint()"
   ]
  },
  {
   "cell_type": "markdown",
   "metadata": {},
   "source": [
    "#### Constraint: Assign each number at most once to a hexagon\n",
    "$\n",
    "\\begin{equation*}\n",
    "\\sum\\limits_{h \\in H}X_{h,n} \\leq 1 \\qquad \\forall \\: n \\in N\\\\\n",
    "\\end{equation*}\n",
    "$"
   ]
  },
  {
   "cell_type": "code",
   "execution_count": null,
   "metadata": {},
   "outputs": [],
   "source": [
    "mo.c_use_each_number_at_most_once = ConstraintList()\n",
    "for n in mo.N:\n",
    "    mo.c_use_each_number_at_most_once.add(expr=sum(mo.X[h,n] for h in mo.H) <= 1)"
   ]
  },
  {
   "cell_type": "code",
   "execution_count": null,
   "metadata": {},
   "outputs": [],
   "source": [
    "mo.c_use_each_number_at_most_once.pprint()"
   ]
  },
  {
   "cell_type": "markdown",
   "metadata": {},
   "source": [
    "#### Constraint: Assigned number must match the sum of all adjacent hexagons\n",
    "$\n",
    "\\begin{equation*}\n",
    "(\\sum\\limits_{n \\in N}k_nX_{h,n}) - s_h - (\\sum\\limits_{a \\in adj_h}\\sum\\limits_{n \\in N}k_nX_{a,n}) = 0 \\qquad \\forall \\: h \\in H\\\\\n",
    "\\end{equation*}\n",
    "$\n",
    "\n",
    "For each hexagon, the first term will evaluate to one of the available numbers because of the previous constraints. To satisfy the sum constraint, this number must be equal to the precalculated sum of all fixed adjacent hexagons ($s_h$) plus the sum of all the numbers of the non-fixed adjacent hexagons ($adj_h$)."
   ]
  },
  {
   "cell_type": "code",
   "execution_count": null,
   "metadata": {},
   "outputs": [],
   "source": [
    "mo.c_sum = ConstraintList()\n",
    "for h in mo.H:\n",
    "    mo.c_sum.add(sum(k[n]*mo.X[h,n] for n in mo.N) - s[h] - sum(k[n]*mo.X[a,n] for n in mo.N for a in adj[h]) == 0)"
   ]
  },
  {
   "cell_type": "code",
   "execution_count": null,
   "metadata": {
    "scrolled": false
   },
   "outputs": [],
   "source": [
    "mo.c_sum.pprint()"
   ]
  },
  {
   "cell_type": "markdown",
   "metadata": {},
   "source": [
    "### Step 7: Decide on a suitable solver depending on your problem and solve it"
   ]
  },
  {
   "cell_type": "code",
   "execution_count": null,
   "metadata": {
    "collapsed": true
   },
   "outputs": [],
   "source": [
    "with open('logs/opti_model.txt', 'w') as f:\n",
    "    mo.pprint(ostream=f)"
   ]
  },
  {
   "cell_type": "code",
   "execution_count": null,
   "metadata": {},
   "outputs": [],
   "source": [
    "print('--- start solver ---')\n",
    "solver = SolverFactory('cbc', executable=solver_path)\n",
    "solver.solve(mo, tee=True, logfile='logs/solver_log.txt')\n",
    "print('--- finished ---')"
   ]
  },
  {
   "cell_type": "markdown",
   "metadata": {},
   "source": [
    "### Step 8: Process the results"
   ]
  },
  {
   "cell_type": "code",
   "execution_count": null,
   "metadata": {},
   "outputs": [],
   "source": [
    "res_dict = {h: k[n] for h, n in mo.X if value(mo.X[h, n]) > 0}\n",
    "for k, v in res_dict.items():\n",
    "    print('Hexagon ' + str(k) + ': ' + str(v))"
   ]
  },
  {
   "cell_type": "code",
   "execution_count": null,
   "metadata": {
    "collapsed": true
   },
   "outputs": [],
   "source": []
  }
 ],
 "metadata": {
  "kernelspec": {
   "display_name": "Python3 - pyomo",
   "language": "python",
   "name": "pyomo_tutorial"
  },
  "language_info": {
   "codemirror_mode": {
    "name": "ipython",
    "version": 3
   },
   "file_extension": ".py",
   "mimetype": "text/x-python",
   "name": "python",
   "nbconvert_exporter": "python",
   "pygments_lexer": "ipython3",
   "version": "3.6.5"
  }
 },
 "nbformat": 4,
 "nbformat_minor": 2
}
