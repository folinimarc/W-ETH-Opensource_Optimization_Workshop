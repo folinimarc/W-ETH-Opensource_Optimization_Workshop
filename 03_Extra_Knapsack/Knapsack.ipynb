{
 "cells": [
  {
   "cell_type": "markdown",
   "metadata": {},
   "source": [
    "# The Knapsack problem"
   ]
  },
  {
   "cell_type": "markdown",
   "metadata": {},
   "source": [
    "#### Category: Integer programming (IP)"
   ]
  },
  {
   "cell_type": "markdown",
   "metadata": {},
   "source": [
    "#### What is it about?\n",
    "- Use integer programming to solve a basic combinatorial problem."
   ]
  },
  {
   "cell_type": "markdown",
   "metadata": {},
   "source": [
    "## Introduction"
   ]
  },
  {
   "cell_type": "markdown",
   "metadata": {},
   "source": [
    "The 0/1 knapsack problem or rucksack problem is a problem in combinatorial optimization: Given a set of items, each with a weight and a value, determine which items to include in a collection so that the total weight is less than or equal to a given limit of 1400 gramms and the total value is as large as possible. It derives its name from the problem faced by someone who is constrained by a fixed-size knapsack and must fill it with the most valuable items. - adapted from <a href=\"https://en.wikipedia.org/wiki/Knapsack_problem\" target=\"_blank\">Wikipedia</a>"
   ]
  },
  {
   "cell_type": "markdown",
   "metadata": {},
   "source": [
    "|   Item            | Value [$]    | Weight [g] |\n",
    "|:------------------|:------------:|:----------:|\n",
    "|   Hammer          | 8            | 500        |\n",
    "|   Wrench          | 3            | 700        |\n",
    "|   Screwdriver     | 6            | 400        |\n",
    "|   Towel           | 11           | 300        |"
   ]
  },
  {
   "cell_type": "markdown",
   "metadata": {},
   "source": [
    "## Mathematical model"
   ]
  },
  {
   "cell_type": "markdown",
   "metadata": {},
   "source": [
    "#### Description\n",
    "$\n",
    "\\begin{equation*}\n",
    "I : \\text{Set of items}\\\\\n",
    "X_i : \\text{Binary variable whether an item i should be packed}\\\\\n",
    "v : \\text{Values of items in \\$}\\\\\n",
    "w : \\text{Weights of items in g}\\\\\n",
    "w_{max} : \\text{Maximum total weight in g}\\\\\n",
    "\\end{equation*}\n",
    "$\n",
    "\n",
    "#### Index set\n",
    "$\n",
    "\\begin{equation*}\n",
    "I = \\{hammer, wrench, screwdriver, towel\\}\\\\\n",
    "\\end{equation*}\n",
    "$\n",
    "\n",
    "#### Decision variables\n",
    "$\n",
    "\\begin{equation*}\n",
    "X_i \\qquad i \\in I, \\: X \\in \\{0,1\\}\\\\\n",
    "\\end{equation*}\n",
    "$\n",
    "\n",
    "#### Objective\n",
    "$\n",
    "\\begin{equation*}\n",
    "MAX \\: \\sum\\limits_{i \\in I}v_iX_i\\\\\n",
    "\\end{equation*}\n",
    "$\n",
    "\n",
    "#### Constraint: Maximum weight\n",
    "$\n",
    "\\begin{equation*}\n",
    "\\sum\\limits_{i \\in I}w_iX_i \\leq w_{max}\\\\\n",
    "\\end{equation*}\n",
    "$"
   ]
  },
  {
   "cell_type": "markdown",
   "metadata": {},
   "source": [
    "<hr>"
   ]
  },
  {
   "cell_type": "markdown",
   "metadata": {},
   "source": [
    "## Pyomo implementation"
   ]
  },
  {
   "cell_type": "markdown",
   "metadata": {},
   "source": [
    "#### Important: Because the following code cells build on each other, you MUST run every code cell starting from now! If you get an error, try selecting the cell and click \"Cell\" -> \"Run All Above\" in the taskbar above and then run the cell again."
   ]
  },
  {
   "cell_type": "markdown",
   "metadata": {},
   "source": [
    "#### Suggested workflow\n",
    "1. Load all needed packages and data in your script and transform the data into a suitable structure.\n",
    "2. Create a model object.\n",
    "3. Define the index sets.\n",
    "4. Based on the index sets, define the decision variables.\n",
    "5. Specify the objective.\n",
    "6. Specify the constraints.\n",
    "7. Decide on a suitable solver depending on your problem and solve it.\n",
    "8. Process the results."
   ]
  },
  {
   "cell_type": "markdown",
   "metadata": {},
   "source": [
    "### Step 1: Load all needed packages and data in your script and transform the data into a suitable structure"
   ]
  },
  {
   "cell_type": "code",
   "execution_count": null,
   "metadata": {
    "collapsed": true
   },
   "outputs": [],
   "source": [
    "from pyomo.environ import *"
   ]
  },
  {
   "cell_type": "markdown",
   "metadata": {},
   "source": [
    "Specify the path to the solver executable:"
   ]
  },
  {
   "cell_type": "code",
   "execution_count": null,
   "metadata": {
    "collapsed": true
   },
   "outputs": [],
   "source": [
    "# For windows: r'../_Solvers/Cbc-2.9.9-win32-msvc14/bin/cbc.exe'\n",
    "# For ubuntu bionic beaver: r'../_Solvers/Ubuntu_Bionic/Cbc-2.9.8/bin/cbc'\n",
    "solver_path = r'../_Solvers/Cbc-2.9.9-win32-msvc14/bin/cbc.exe'"
   ]
  },
  {
   "cell_type": "markdown",
   "metadata": {},
   "source": [
    "We use dictionaries to hold the values and weights of our items:"
   ]
  },
  {
   "cell_type": "code",
   "execution_count": null,
   "metadata": {
    "collapsed": true
   },
   "outputs": [],
   "source": [
    "v = {'hammer':8, 'wrench':3, 'screwdriver':6, 'towel':11}\n",
    "w = {'hammer':500, 'wrench':700, 'screwdriver':400, 'towel':300}\n",
    "w_max = 1400"
   ]
  },
  {
   "cell_type": "markdown",
   "metadata": {},
   "source": [
    "### Step 2: Create a model object"
   ]
  },
  {
   "cell_type": "code",
   "execution_count": null,
   "metadata": {
    "collapsed": true
   },
   "outputs": [],
   "source": [
    "mo = ConcreteModel()"
   ]
  },
  {
   "cell_type": "markdown",
   "metadata": {},
   "source": [
    "### Step 3: Define the index set\n",
    "$\n",
    "\\begin{equation*}\n",
    "I = \\{hammer, wrench, screwdriver, towel\\}\\\\\n",
    "\\end{equation*}\n",
    "$\n",
    "<br>\n",
    "Instead of initializing the set component by rewriting all items, we can extract them from the previously created dictionary v. Calling __v.keys()__ returns all the keys (our items) in dictionary v. That saves some typing:"
   ]
  },
  {
   "cell_type": "code",
   "execution_count": null,
   "metadata": {
    "collapsed": true,
    "scrolled": true
   },
   "outputs": [],
   "source": [
    "mo.I = Set(initialize=v.keys())"
   ]
  },
  {
   "cell_type": "code",
   "execution_count": null,
   "metadata": {
    "collapsed": true
   },
   "outputs": [],
   "source": [
    "mo.I.pprint()"
   ]
  },
  {
   "cell_type": "markdown",
   "metadata": {},
   "source": [
    "### Step 4: Based on the index set, define the decision variables\n",
    "$\n",
    "\\begin{equation*}\n",
    "X_i \\qquad i \\in I, \\: X \\in \\{0,1\\}\\\\\n",
    "\\end{equation*}\n",
    "$"
   ]
  },
  {
   "cell_type": "code",
   "execution_count": null,
   "metadata": {
    "collapsed": true,
    "scrolled": true
   },
   "outputs": [],
   "source": [
    "mo.X = Var(mo.I, within=Binary, initialize=0)"
   ]
  },
  {
   "cell_type": "code",
   "execution_count": null,
   "metadata": {
    "collapsed": true
   },
   "outputs": [],
   "source": [
    "mo.X.pprint()"
   ]
  },
  {
   "cell_type": "markdown",
   "metadata": {},
   "source": [
    "### Step 5: Specify the objective\n",
    "$\n",
    "\\begin{equation*}\n",
    "MAX \\: \\sum\\limits_{i \\in I}v_iX_i \\\\\n",
    "\\end{equation*}\n",
    "$"
   ]
  },
  {
   "cell_type": "code",
   "execution_count": null,
   "metadata": {
    "collapsed": true,
    "scrolled": true
   },
   "outputs": [],
   "source": [
    "mo.obj = Objective(sense=maximize,\n",
    "                    expr=sum(v[i]*mo.X[i] for i in mo.I))"
   ]
  },
  {
   "cell_type": "code",
   "execution_count": null,
   "metadata": {
    "collapsed": true
   },
   "outputs": [],
   "source": [
    "mo.obj.pprint()"
   ]
  },
  {
   "cell_type": "markdown",
   "metadata": {},
   "source": [
    "### Step 6: Specify the constraints"
   ]
  },
  {
   "cell_type": "markdown",
   "metadata": {},
   "source": [
    "#### Constraint: Maximum weight\n",
    "$\n",
    "\\begin{equation*}\n",
    "\\sum\\limits_{i \\in I}w_iX_i \\leq w_{max}\\\\\n",
    "\\end{equation*}\n",
    "$"
   ]
  },
  {
   "cell_type": "code",
   "execution_count": null,
   "metadata": {
    "collapsed": true,
    "scrolled": false
   },
   "outputs": [],
   "source": [
    "mo.c_max_weight = Constraint(expr=sum(w[i]*mo.X[i] for i in mo.I) <= w_max)"
   ]
  },
  {
   "cell_type": "code",
   "execution_count": null,
   "metadata": {
    "collapsed": true
   },
   "outputs": [],
   "source": [
    "mo.c_max_weight.pprint()"
   ]
  },
  {
   "cell_type": "markdown",
   "metadata": {},
   "source": [
    "### Step 7: Decide on a suitable solver depending on your problem and solve it"
   ]
  },
  {
   "cell_type": "code",
   "execution_count": null,
   "metadata": {
    "collapsed": true
   },
   "outputs": [],
   "source": [
    "with open('logs/opti_model.txt', 'w') as f:\n",
    "    mo.pprint(ostream=f)"
   ]
  },
  {
   "cell_type": "code",
   "execution_count": null,
   "metadata": {
    "collapsed": true
   },
   "outputs": [],
   "source": [
    "print('--- start solver ---')\n",
    "solver = SolverFactory('cbc', executable=solver_path)\n",
    "solver.solve(mo, tee=True, logfile='logs/solver_log.txt')\n",
    "print('--- finished ---')"
   ]
  },
  {
   "cell_type": "markdown",
   "metadata": {},
   "source": [
    "### Step 8: Process the results"
   ]
  },
  {
   "cell_type": "code",
   "execution_count": null,
   "metadata": {
    "collapsed": true
   },
   "outputs": [],
   "source": [
    "print('Total value: ' + str(value(mo.obj)) + ' [$]')\n",
    "print('-'*20)\n",
    "\n",
    "for k,v in mo.X.items():\n",
    "    print(str(k) + ': ' + str(int(value(v))))"
   ]
  },
  {
   "cell_type": "markdown",
   "metadata": {},
   "source": [
    "Just out of curiosity, let's check that the maximum weight constraint actually is satisfied:"
   ]
  },
  {
   "cell_type": "code",
   "execution_count": null,
   "metadata": {
    "collapsed": true
   },
   "outputs": [],
   "source": [
    "total_weight = 0\n",
    "for k,v in mo.X.items():\n",
    "    if value(v) > 0:\n",
    "        total_weight += w[k]\n",
    "print('Total knapsack weight: ' + str(total_weight) + ' [g]')\n",
    "print('Maximum weight: ' + str(w_max) + ' [g]')"
   ]
  },
  {
   "cell_type": "markdown",
   "metadata": {},
   "source": [
    "#### Looks good!"
   ]
  },
  {
   "cell_type": "code",
   "execution_count": null,
   "metadata": {
    "collapsed": true
   },
   "outputs": [],
   "source": []
  }
 ],
 "metadata": {
  "kernelspec": {
   "display_name": "Python3 - pyomo",
   "language": "python",
   "name": "pyomo_tutorial"
  },
  "language_info": {
   "codemirror_mode": {
    "name": "ipython",
    "version": 3
   },
   "file_extension": ".py",
   "mimetype": "text/x-python",
   "name": "python",
   "nbconvert_exporter": "python",
   "pygments_lexer": "ipython3",
   "version": "3.6.5"
  }
 },
 "nbformat": 4,
 "nbformat_minor": 2
}
