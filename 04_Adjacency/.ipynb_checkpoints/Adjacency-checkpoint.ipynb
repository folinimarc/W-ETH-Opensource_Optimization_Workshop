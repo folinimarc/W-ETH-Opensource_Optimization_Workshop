{
 "cells": [
  {
   "cell_type": "markdown",
   "metadata": {},
   "source": [
    "# Spatially explicit optimization - Adjacency "
   ]
  },
  {
   "cell_type": "markdown",
   "metadata": {},
   "source": [
    "#### Category: Integer programming (IP)"
   ]
  },
  {
   "cell_type": "markdown",
   "metadata": {},
   "source": [
    "#### What is it about?\n",
    "- Use integer programming to solve a problem with spatial constraints.\n",
    "- Read input data from excel and shapefile.\n",
    "- Process and display the solver results in various ways. Add the result to an existing shapefile for further processing in a GIS software."
   ]
  },
  {
   "cell_type": "markdown",
   "metadata": {},
   "source": [
    "## Introduction"
   ]
  },
  {
   "cell_type": "markdown",
   "metadata": {},
   "source": [
    "The Uetliberg forest is divided up into more than 600 stands which are used as decision units for managing actions. All stands in the timber stage (n=266) have been selected for __harvest in the next n upcoming periods__. \n",
    "The stands should be harvested in order to __maximize harvested timber volume__ under the restriction that the size of openings after harvest is limited. Therefore, the management authority has set the policy that __harvesting of neighboring stands during the same period is not allowed__. The authority would like to know how to schedule harvest of the stands in order to concurrently meet the objective and the harvesting constraint. - Slides SAMO Exercise 7"
   ]
  },
  {
   "cell_type": "markdown",
   "metadata": {},
   "source": [
    "The following tasks have already been taken care of by a colleague:\n",
    "- All stands in timber stage were selected and saved in a shapefile in folder shp.\n",
    "- A one-sided adjacency list of all stands in timber stage was generated using a GIS software and saved as an excel document in folder xls."
   ]
  },
  {
   "cell_type": "markdown",
   "metadata": {},
   "source": [
    "## Mathematical model"
   ]
  },
  {
   "cell_type": "markdown",
   "metadata": {},
   "source": [
    "#### Description\n",
    "$\n",
    "\\begin{equation*}\n",
    "n_{stands}: \\text{Number of stands} \\\\\n",
    "n_{periods}: \\text{Number of periods}\\\\\n",
    "S : \\text{Set of stand IDs}\\\\\n",
    "P : \\text{Set of time periods}\\\\\n",
    "X_{p,s} : \\text{Binary variable whether stand s is harvested in time period p}\\\\\n",
    "vol: \\text{Volumes of stands in $m^3$}\\\\\n",
    "adja\\_list: \\text{Adjacency list of stands, one-sided}\\\\\n",
    "\\end{equation*}\n",
    "$\n",
    "\n",
    "#### Index sets\n",
    "$\n",
    "\\begin{equation*}\n",
    "P = \\{0,1,2, ... , (n_{periods}-1)\\}\\\\\n",
    "S = \\{0,1,2, ... , (n_{stands}-1)\\}\\\\\n",
    "\\end{equation*}\n",
    "$\n",
    "\n",
    "#### Decision variables\n",
    "$\n",
    "\\begin{equation*}\n",
    "X_{p,s} \\qquad p \\in P, \\: s \\in S, \\: X \\in \\{0,1\\}\\\\\n",
    "\\end{equation*}\n",
    "$\n",
    "\n",
    "#### Objective\n",
    "$\n",
    "\\begin{equation*}\n",
    "MAX \\: \\sum\\limits_{p \\in P} \\sum\\limits_{s \\in S}vol_sX_{p,s}\\\\\n",
    "\\end{equation*}\n",
    "$\n",
    "\n",
    "#### Constraint: Harvest each stand only once\n",
    "$\n",
    "\\begin{equation*}\n",
    "\\sum\\limits_{p \\in P}X_{p,s} \\leq 1 \\qquad \\forall \\: s \\in S\\\\\n",
    "\\end{equation*}\n",
    "$\n",
    "\n",
    "#### Constraint: Adjacency restriction\n",
    "$\n",
    "\\begin{equation*}\n",
    "X_{p,k} + X_{p,l} \\leq 1 \\qquad \\forall \\: p \\in P, \\: \\forall \\:k,l \\in adja\\_list\\\\\n",
    "\\end{equation*}\n",
    "$"
   ]
  },
  {
   "cell_type": "markdown",
   "metadata": {},
   "source": [
    "## Pyomo implementation"
   ]
  },
  {
   "cell_type": "markdown",
   "metadata": {},
   "source": [
    "#### Important: Because the following code cells build on each other, you MUST run every code cell starting from now! If you get an error, try selecting the cell and click \"Cell\" -> \"Run All Above\" in the taskbar above and then run the cell again."
   ]
  },
  {
   "cell_type": "markdown",
   "metadata": {},
   "source": [
    "#### Suggested workflow\n",
    "1. Load all needed packages and data in your script and transform the data into a suitable structure.\n",
    "2. Create a model object.\n",
    "3. Define the index sets.\n",
    "4. Based on the index sets, define the decision variables.\n",
    "5. Specify the objective.\n",
    "6. Specify the constraints.\n",
    "7. Decide on a suitable solver depending on your problem and solve it.\n",
    "8. Process the results."
   ]
  },
  {
   "cell_type": "markdown",
   "metadata": {},
   "source": [
    "### Step 1: Load all needed packages and data in your script and transform the data into a suitable structure\n",
    "- Import everything from pyomo.environ to use it without prefix.\n",
    "- Import numpy for array processing.\n",
    "- Import pandas to read the excel file containing the adjacency list into a dataframe.\n",
    "- Import geopandas to read and write shapefiles from and to dataframes.\n",
    "- Import display from IPython to nicely display pandas and geopandas dataframes."
   ]
  },
  {
   "cell_type": "code",
   "execution_count": null,
   "metadata": {
    "collapsed": true
   },
   "outputs": [],
   "source": [
    "from pyomo.environ import *\n",
    "import numpy as np\n",
    "import pandas as pd\n",
    "import geopandas as gpd\n",
    "from IPython.display import display"
   ]
  },
  {
   "cell_type": "markdown",
   "metadata": {},
   "source": [
    "Specify the path to the solver executable:"
   ]
  },
  {
   "cell_type": "code",
   "execution_count": null,
   "metadata": {
    "collapsed": true
   },
   "outputs": [],
   "source": [
    "# For windows: r'../_Solvers/Cbc-2.9.9-win32-msvc14/bin/cbc.exe'\n",
    "# For ubuntu bionic beaver: r'../_Solvers/Ubuntu_Bionic/Cbc-2.9.8/bin/cbc'\n",
    "solver_path = r'../_Solvers/Cbc-2.9.9-win32-msvc14/bin/cbc.exe'"
   ]
  },
  {
   "cell_type": "markdown",
   "metadata": {},
   "source": [
    "Specify the number of time periods to consider in the optimization:"
   ]
  },
  {
   "cell_type": "code",
   "execution_count": null,
   "metadata": {
    "collapsed": true
   },
   "outputs": [],
   "source": [
    "n_periods = 3"
   ]
  },
  {
   "cell_type": "markdown",
   "metadata": {},
   "source": [
    "Use pandas (prefixed pd) to read the adjacency list from an excel file into a pandas dataframe. Similar to R, dataframes are two dimensional labelled data structures, which provide some convenient functionality like the to_string() function for nice printing. If you are into data analysis and want to learn more about pandas, you could start <a href=\"https://www.datacamp.com/community/tutorials/pandas-tutorial-dataframe-python\" target=\"_blank\">here</a>.\n",
    "\n",
    "Note the use of the imported IPython function __display()__ to nicely display the data. Alternatively you could use the standard print(x) to display a variable x. If x is a pandas and geopandas dataframe, you can also use print(x.to_string()). Feel free to give it a try!"
   ]
  },
  {
   "cell_type": "code",
   "execution_count": null,
   "metadata": {
    "collapsed": true
   },
   "outputs": [],
   "source": [
    "adja_list_df = pd.read_excel('xls/AdjacencyUetliberg.xls', usecols=[1, 2])\n",
    "display(adja_list_df)"
   ]
  },
  {
   "cell_type": "markdown",
   "metadata": {},
   "source": [
    "Because pandas dataframes are based on numpy arrays, we can extract the underlying numpy array by accessing the .values attribute.\n",
    "The adjacency list is 1-based, but numpy's Matlab like syntax makes it easy to subtract 1 to make it 0-based. That's it, the adjacency list $adja\\_list$ is ready!"
   ]
  },
  {
   "cell_type": "code",
   "execution_count": null,
   "metadata": {
    "collapsed": true
   },
   "outputs": [],
   "source": [
    "adja_list = adja_list_df.values\n",
    "adja_list = adja_list -1\n",
    "print(adja_list)"
   ]
  },
  {
   "cell_type": "markdown",
   "metadata": {},
   "source": [
    "Next, geopandas (prefixed gpd) is used to read the shapefile containing the forest stand polygons into a geopandas dataframe. The attribute table of the shapefile contains a column with the stand volumes that we need for our model. Feel free to have a look at the shapefile in your favorite GIS program."
   ]
  },
  {
   "cell_type": "code",
   "execution_count": null,
   "metadata": {
    "collapsed": true
   },
   "outputs": [],
   "source": [
    "shp = gpd.read_file(\"shp/StandsUetliberg.shp\")\n",
    "display(shp)"
   ]
  },
  {
   "cell_type": "markdown",
   "metadata": {},
   "source": [
    "Using typical pandas syntax, square brackets allows us to easily extract a column from the dataframe. Accessing the .values attribute again returns the underlying numpy array. Et voila, the volume array $vol$ is ready for use in our model!"
   ]
  },
  {
   "cell_type": "code",
   "execution_count": null,
   "metadata": {
    "collapsed": true
   },
   "outputs": [],
   "source": [
    "vol = shp['Vol'].values\n",
    "print(vol)"
   ]
  },
  {
   "cell_type": "markdown",
   "metadata": {},
   "source": [
    "There are several ways to get the number of stands. Here the length of the volume vector is used:"
   ]
  },
  {
   "cell_type": "code",
   "execution_count": null,
   "metadata": {
    "collapsed": true
   },
   "outputs": [],
   "source": [
    "n_stands = len(vol)\n",
    "print(n_stands)"
   ]
  },
  {
   "cell_type": "markdown",
   "metadata": {},
   "source": [
    "__That is it for the data preparation!__ The following data is now ready in a suitable form to be used in the model:\n",
    "- $n_{periods}$\n",
    "- $n_{stands}$\n",
    "- $adja\\_list$\n",
    "- $vol$"
   ]
  },
  {
   "cell_type": "markdown",
   "metadata": {},
   "source": [
    "### Step 2: Create a model object\n",
    "Create a concrete model object and save it as mo:"
   ]
  },
  {
   "cell_type": "code",
   "execution_count": null,
   "metadata": {
    "collapsed": true
   },
   "outputs": [],
   "source": [
    "mo = ConcreteModel()"
   ]
  },
  {
   "cell_type": "markdown",
   "metadata": {},
   "source": [
    "### Step 3: Define the index sets\n",
    "$\n",
    "\\begin{equation*}\n",
    "P = \\{0,1,2, ... , (n_{periods}-1)\\}\\\\\n",
    "S = \\{0,1,2, ... , (n_{stands}-1)\\}\\\\\n",
    "\\end{equation*}\n",
    "$\n",
    "<br>\n",
    "We define one index set of type integer to account for the time periods and one for the stand IDs. The range() function is very well suited for that purpose. Remember that range(x) returns a list of consecutive integers ranging from 0 up to but not including integer x:"
   ]
  },
  {
   "cell_type": "code",
   "execution_count": null,
   "metadata": {
    "collapsed": true
   },
   "outputs": [],
   "source": [
    "mo.P = Set(initialize=range(n_periods))\n",
    "mo.S = Set(initialize=range(n_stands))"
   ]
  },
  {
   "cell_type": "code",
   "execution_count": null,
   "metadata": {
    "collapsed": true
   },
   "outputs": [],
   "source": [
    "mo.P.pprint()"
   ]
  },
  {
   "cell_type": "code",
   "execution_count": null,
   "metadata": {
    "collapsed": true,
    "scrolled": true
   },
   "outputs": [],
   "source": [
    "mo.S.pprint()"
   ]
  },
  {
   "cell_type": "markdown",
   "metadata": {},
   "source": [
    "### Step 4: Based on the index sets, define the decision variables\n",
    "$\n",
    "\\begin{equation*}\n",
    "X_{p,s} \\qquad p \\in P, \\; s \\in S, \\: X \\in \\{0,1\\}\\\\\n",
    "\\end{equation*}\n",
    "$\n",
    "<br>\n",
    "This is an example of a decision variable being indexed over two index sets. For each combination of indices, a decision variable is created. Note how closely the code resembles the mathematical notation. For this model there are a total of 798 decision variables (3 time periods * 266 stands). They can be accessed via __X[period, stand]__."
   ]
  },
  {
   "cell_type": "code",
   "execution_count": null,
   "metadata": {
    "collapsed": true
   },
   "outputs": [],
   "source": [
    "mo.X = Var(mo.P, mo.S, within=Binary, initialize=0)"
   ]
  },
  {
   "cell_type": "code",
   "execution_count": null,
   "metadata": {
    "collapsed": true
   },
   "outputs": [],
   "source": [
    "mo.X.pprint()"
   ]
  },
  {
   "cell_type": "markdown",
   "metadata": {},
   "source": [
    "### Step 5: Specify the objective\n",
    "$\n",
    "\\begin{equation*}\n",
    "MAX \\: \\sum\\limits_{p \\in P} \\sum\\limits_{s \\in S}vol_sX_{p,s}\\\\\n",
    "\\end{equation*}\n",
    "$\n",
    "<br>\n",
    "Nested for-loops are used to sum over both index sets:"
   ]
  },
  {
   "cell_type": "code",
   "execution_count": null,
   "metadata": {
    "collapsed": true
   },
   "outputs": [],
   "source": [
    "mo.obj = Objective(sense=maximize,\n",
    "                   expr=sum(vol[s] * mo.X[p,s] for p in mo.P for s in mo.S))"
   ]
  },
  {
   "cell_type": "code",
   "execution_count": null,
   "metadata": {
    "collapsed": true
   },
   "outputs": [],
   "source": [
    "mo.obj.pprint()"
   ]
  },
  {
   "cell_type": "markdown",
   "metadata": {},
   "source": [
    "### Step 6: Specify the constraints"
   ]
  },
  {
   "cell_type": "markdown",
   "metadata": {},
   "source": [
    "#### Constraint: Harvest each stand only once\n",
    "$\n",
    "\\begin{equation*}\n",
    "\\sum\\limits_{p \\in P}X_{p,s} \\leq 1 \\qquad \\forall \\: s \\in S \\\\\n",
    "\\end{equation*}\n",
    "$\n",
    "<br>\n",
    "This is a constraint that needs to be specified for each stand, as indicated by the $\\forall \\: s \\in S$. This calls for the use of the component __ConstraintList__, a container for Constraint components. Constraints are added to ConstraintList by using ConstraintLists' __.add()__ function, whereby the constraint to be added is specified with the __expr__ keyword.\n",
    "\n",
    "First, a ConstraintList object is created and added to the model. A for-loop then iterates over all items in the stand index set and adds a constraint for each."
   ]
  },
  {
   "cell_type": "code",
   "execution_count": null,
   "metadata": {
    "collapsed": true
   },
   "outputs": [],
   "source": [
    "mo.c_harvest_once = ConstraintList()\n",
    "for s in mo.S:\n",
    "    mo.c_harvest_once.add(expr=sum(mo.X[p, s] for p in mo.P) <= 1)"
   ]
  },
  {
   "cell_type": "code",
   "execution_count": null,
   "metadata": {
    "collapsed": true
   },
   "outputs": [],
   "source": [
    "mo.c_harvest_once.pprint()"
   ]
  },
  {
   "cell_type": "markdown",
   "metadata": {},
   "source": [
    "<hr>"
   ]
  },
  {
   "cell_type": "markdown",
   "metadata": {},
   "source": [
    "### Rule of thumb:\n",
    "1. Sum symbols $\\sum$ in the mathematical notation can be transferred to pyomo code by using sum() and list comprehension like syntax.\n",
    "2. For-all symbols $\\forall$ can be transferred to pyomo code by using a ConstraintList and a for-loop to iterate over the specified set. Multiple $\\forall$ symbols require nested for loops."
   ]
  },
  {
   "cell_type": "markdown",
   "metadata": {},
   "source": [
    "<hr>"
   ]
  },
  {
   "cell_type": "markdown",
   "metadata": {},
   "source": [
    "#### Constraint: Adjacency restriction\n",
    "$\n",
    "\\begin{equation*}\n",
    "X_{p,k} + X_{p,l} \\leq 1 \\qquad \\forall \\: p \\in P, \\: \\forall \\:k,l \\in adja\\_list\\\\\n",
    "\\end{equation*}\n",
    "$\n",
    "<br>\n",
    "Following the rule of thumb above, $\\forall \\: p \\in P$ and $\\forall \\:k,l \\in adja\\_list$ can be transferred to pyomo using nested for-loops. Note the simultaneous loop variable assignment in the inner loop, as adja_list is basically an array consisting of nested 2-element arrays of adjacent stand IDs."
   ]
  },
  {
   "cell_type": "code",
   "execution_count": null,
   "metadata": {
    "collapsed": true
   },
   "outputs": [],
   "source": [
    "mo.c_adjacency_restriction = ConstraintList()\n",
    "for p in mo.P:\n",
    "    for k, l in adja_list:\n",
    "        mo.c_adjacency_restriction.add(expr=mo.X[p, k] + mo.X[p, l] <= 1)"
   ]
  },
  {
   "cell_type": "code",
   "execution_count": null,
   "metadata": {
    "collapsed": true
   },
   "outputs": [],
   "source": [
    "mo.c_adjacency_restriction.pprint()"
   ]
  },
  {
   "cell_type": "markdown",
   "metadata": {},
   "source": [
    "### Step 7: Decide on a suitable solver depending on your problem and solve it\n",
    "Save model structure to a filename opti_model.txt in folder logs. Then create a solver object using the CBC solver as this is a IP. Save solver log to solver_log.txt in folder logs. With keword tee=True, log will also be printed."
   ]
  },
  {
   "cell_type": "code",
   "execution_count": null,
   "metadata": {
    "collapsed": true
   },
   "outputs": [],
   "source": [
    "with open('logs/opti_model.txt', 'w') as f:\n",
    "    mo.pprint(ostream=f)"
   ]
  },
  {
   "cell_type": "code",
   "execution_count": null,
   "metadata": {
    "collapsed": true
   },
   "outputs": [],
   "source": [
    "print('--- start solver ---')\n",
    "solver = SolverFactory('cbc', executable=solver_path)\n",
    "solver.solve(mo, tee=True, logfile='logs/solver_log.txt')\n",
    "print('--- finished ---')"
   ]
  },
  {
   "cell_type": "markdown",
   "metadata": {},
   "source": [
    "### Step 8: Process the results"
   ]
  },
  {
   "cell_type": "markdown",
   "metadata": {},
   "source": [
    "The goal of this section is to convert the model solution from its binary form into a aggregated list, where each entry holds the time period of when the corresponding stand is harvested. This list is then added to the geopandas dataframe containing the stand polygons and exported as shapefile. The newly created attribute can then be used for visualization purposes of the optimal harvesting schedule in the GIS application of your choice."
   ]
  },
  {
   "cell_type": "markdown",
   "metadata": {},
   "source": [
    "Lets first have a look at the decision variables. We use the items() function, which returns key:value pairs, which are assigned to the loop variables k and v respectively. Note that k is a tuple of the form (period, stand), because the decision variables use a 2-dimensional key. Also note, that the function value() must be used on v to retrieve the value of the decision variable."
   ]
  },
  {
   "cell_type": "code",
   "execution_count": null,
   "metadata": {
    "collapsed": true,
    "scrolled": true
   },
   "outputs": [],
   "source": [
    "print('P | S | V') # Time period | Stand ID | 1 if stand is harvested, 0 otherwise\n",
    "print('-' * 9)\n",
    "for k,v in mo.X.items():\n",
    "    period = k[0]\n",
    "    stand = k[1]\n",
    "    harvested = value(v)\n",
    "    print(str(period) + ' | ' + str(stand) + ' | ' + str(int(harvested)))"
   ]
  },
  {
   "cell_type": "markdown",
   "metadata": {},
   "source": [
    "Next we need to aggregate results from binary decision variables to a list that contains the harvest period for each stand. Some stands may not get harvested due to constraints. We want to assign them the value -1 in the aggregated list. To that end, lets first create a numpy array with a default value -1 for each stand using the numpy function <a href=\"https://docs.scipy.org/doc/numpy-1.13.0/reference/generated/numpy.full.html\" target=\"_blank\">np.full()</a>:"
   ]
  },
  {
   "cell_type": "code",
   "execution_count": null,
   "metadata": {
    "collapsed": true,
    "scrolled": true
   },
   "outputs": [],
   "source": [
    "aggregated_periods = np.full(n_stands, fill_value=-1)\n",
    "print(aggregated_periods)"
   ]
  },
  {
   "cell_type": "markdown",
   "metadata": {},
   "source": [
    "Because of the constraint that every stand can be harvested only once, each stand can have at most one non-zero decision variable value over all time periods. \n",
    "\n",
    "That means, we can loop over all decision variables and check their value. If the value is larger than 0 (meaning the stand is harvested), we index into position k[1] of the aggregated_periods array and set its value to k[0]. __Remember:__ k[1] is the stand ID of the current decision variable and k[0] is the time period."
   ]
  },
  {
   "cell_type": "code",
   "execution_count": null,
   "metadata": {
    "collapsed": true
   },
   "outputs": [],
   "source": [
    "for k, v in mo.X.items():\n",
    "    if value(v) > 0:\n",
    "        aggregated_periods[k[1]] = k[0]\n",
    "print(aggregated_periods)"
   ]
  },
  {
   "cell_type": "markdown",
   "metadata": {},
   "source": [
    "It is more intuitive if the first time period is 1 instead of 0 and the 3rd is 3 instead of 2. However, stands that are not harvested are perfectly fine at -1. Let's therefore increase all elements by 1, except for the ones that are -1. As you see below, numpy arrays support __boolean indexing__ the same way as R and Matlab do."
   ]
  },
  {
   "cell_type": "code",
   "execution_count": null,
   "metadata": {
    "collapsed": true
   },
   "outputs": [],
   "source": [
    "aggregated_periods[aggregated_periods > -1] += 1\n",
    "print(aggregated_periods)"
   ]
  },
  {
   "cell_type": "markdown",
   "metadata": {},
   "source": [
    "When processing data, it is worth to pause from time to time and write a quick test to see if everything works as expected. This may save a lot of frustration and time down the road. For the first 10 entries, let's check if our aggregation makes sense, i.e. whether the aggregated periods array is similar to original binary result. If you are interested in how the join() function works, have a look <a href=\"https://www.tutorialspoint.com/python/string_join.htm\" target=\"_blank\">here</a>."
   ]
  },
  {
   "cell_type": "code",
   "execution_count": null,
   "metadata": {
    "collapsed": true,
    "scrolled": false
   },
   "outputs": [],
   "source": [
    "print('Stand ID: Periods...')\n",
    "for s in range(10):\n",
    "    print(str(s) + ': ' + ' | '.join(str(int(value(mo.X[p, s]))) for p in range(n_periods) ))\n",
    "print('-' * 30)\n",
    "print('Aggregated:')\n",
    "print(aggregated_periods[:10])"
   ]
  },
  {
   "cell_type": "markdown",
   "metadata": {},
   "source": [
    "Looks good! Now let's assign the aggregated period array as new attribute \"period\" to the geopandas dataframe shp. Similar to a dictionary, a new column can be added by assigning data to a key that does not yet exist in the dataframe."
   ]
  },
  {
   "cell_type": "code",
   "execution_count": null,
   "metadata": {
    "collapsed": true
   },
   "outputs": [],
   "source": [
    "shp['period'] = aggregated_periods\n",
    "display(shp)"
   ]
  },
  {
   "cell_type": "markdown",
   "metadata": {},
   "source": [
    "The modified dataframe is exported as shapefile named output.shp to folder result using geopandas' to_file() function."
   ]
  },
  {
   "cell_type": "code",
   "execution_count": null,
   "metadata": {
    "collapsed": true
   },
   "outputs": [],
   "source": [
    "shp.to_file(filename='result/output.shp', driver='ESRI Shapefile')"
   ]
  },
  {
   "cell_type": "code",
   "execution_count": null,
   "metadata": {
    "collapsed": true
   },
   "outputs": [],
   "source": []
  }
 ],
 "metadata": {
  "kernelspec": {
   "display_name": "Python3 - pyomo",
   "language": "python",
   "name": "pyomo_tutorial"
  },
  "language_info": {
   "codemirror_mode": {
    "name": "ipython",
    "version": 3
   },
   "file_extension": ".py",
   "mimetype": "text/x-python",
   "name": "python",
   "nbconvert_exporter": "python",
   "pygments_lexer": "ipython3",
   "version": "3.6.5"
  }
 },
 "nbformat": 4,
 "nbformat_minor": 2
}
